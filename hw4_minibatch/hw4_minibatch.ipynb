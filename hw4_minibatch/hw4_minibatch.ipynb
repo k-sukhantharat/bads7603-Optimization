{
 "cells": [
  {
   "cell_type": "code",
   "execution_count": 1,
   "source": [
    "import csv\n",
    "import numpy as np\n",
    "import math"
   ],
   "outputs": [],
   "metadata": {}
  },
  {
   "cell_type": "code",
   "execution_count": 2,
   "source": [
    "# read file and store to numpy array\n",
    "A = []\n",
    "B = []\n",
    "C = []\n",
    "with open('data_minibatch.csv', newline='') as csvfile:\n",
    "    reader = csv.reader(csvfile)\n",
    "    for row in reader:\n",
    "        row = [float(x) for x in row]\n",
    "        A.append(row[0])\n",
    "        B.append(row[1])\n",
    "        C.append(row[2])\n",
    "A = np.array(A)\n",
    "B = np.array(B)\n",
    "C = np.array(C)"
   ],
   "outputs": [],
   "metadata": {}
  },
  {
   "cell_type": "code",
   "execution_count": 3,
   "source": [
    "def f(x):\n",
    "    return np.sum(A + (B * x) + (1/2 * (C * math.pow(x,2))))"
   ],
   "outputs": [],
   "metadata": {}
  },
  {
   "cell_type": "code",
   "execution_count": 4,
   "source": [
    "def f_gradient(x):\n",
    "    return np.sum(B + (C * x))"
   ],
   "outputs": [],
   "metadata": {}
  },
  {
   "cell_type": "code",
   "execution_count": 5,
   "source": [
    "def f_hessian():\n",
    "    return np.sum(C)"
   ],
   "outputs": [],
   "metadata": {}
  },
  {
   "cell_type": "code",
   "execution_count": 6,
   "source": [
    "# 2.1 \n",
    "# f(x) is Lipchitz continiously differentiable if L > 0\n",
    "L = np.sum(C)\n",
    "print('L: {:.3f}'.format(L))\n",
    "if L > 0:\n",
    "    print('f(x) is Lipchitz continiously differentiable')\n",
    "print('Range of step size: 0 < t < {:.3f}\\n'.format(2/L))\n",
    "\n",
    "# find x*, p*\n",
    "x_opt = -np.sum(B)/np.sum(C)\n",
    "print('x* is {:.3f} (hessian of f(x*) = {:.3f})'.format(x_opt, f_hessian()))\n",
    "p_opt = f(x_opt)\n",
    "print('p* is {:.3f}'.format(p_opt))"
   ],
   "outputs": [
    {
     "output_type": "stream",
     "name": "stdout",
     "text": [
      "L: 166.644\n",
      "f(x) is Lipchitz continiously differentiable\n",
      "Range of step size: 0 < t < 0.012\n",
      "\n",
      "x* is -0.115 (hessian of f(x*) = 166.644)\n",
      "p* is -0.441\n"
     ]
    }
   ],
   "metadata": {}
  },
  {
   "cell_type": "code",
   "execution_count": null,
   "source": [
    "# f_i for mini batch\n",
    "def f_i(x, i):\n",
    "    return A[i] + (B[i] * x) + (1/2 * (C[i] * math.pow(x,2)))\n",
    "def f_i_gradient(x,i):\n",
    "    return B[i] + (C[i] * x)"
   ],
   "outputs": [],
   "metadata": {}
  }
 ],
 "metadata": {
  "orig_nbformat": 4,
  "language_info": {
   "name": "python",
   "version": "3.8.10",
   "mimetype": "text/x-python",
   "codemirror_mode": {
    "name": "ipython",
    "version": 3
   },
   "pygments_lexer": "ipython3",
   "nbconvert_exporter": "python",
   "file_extension": ".py"
  },
  "kernelspec": {
   "name": "python3",
   "display_name": "Python 3.8.10 64-bit ('mlp': conda)"
  },
  "interpreter": {
   "hash": "d5bf6591dea9055e566ac0067666b43f12209768e386ee97aa6dd19c01f71ee7"
  }
 },
 "nbformat": 4,
 "nbformat_minor": 2
}