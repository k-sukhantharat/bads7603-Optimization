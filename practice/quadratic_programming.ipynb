{
 "cells": [
  {
   "cell_type": "code",
   "execution_count": 5,
   "source": [
    "from numpy import array, dot"
   ],
   "outputs": [],
   "metadata": {}
  },
  {
   "cell_type": "markdown",
   "source": [
    "## qpsolvers"
   ],
   "metadata": {}
  },
  {
   "cell_type": "code",
   "execution_count": 4,
   "source": [
    "from qpsolvers import solve_qp\n",
    "M = array([[1., 2., 0.], [-8., 3., 2.], [0., 1., 1.]])\n",
    "P = dot(M.T, M)  # this is a positive definite matrix\n",
    "q = dot(array([3., 2., 3.]), M).reshape((3,))\n",
    "G = array([[1., 2., 1.], [2., 0., 1.], [-1., 2., -1.]])\n",
    "h = array([3., 2., -2.]).reshape((3,))\n",
    "A = array([1., 1., 1.])\n",
    "b = array([1.])\n",
    "x = solve_qp(P, q, G, h, A, b)\n",
    "print(\"QP solution: x = {}\".format(x))"
   ],
   "outputs": [
    {
     "output_type": "stream",
     "name": "stdout",
     "text": [
      "QP solution: x = [ 0.30769231 -0.69230769  1.38461538]\n"
     ]
    }
   ],
   "metadata": {}
  },
  {
   "cell_type": "markdown",
   "source": [
    "## cvxopt"
   ],
   "metadata": {}
  },
  {
   "cell_type": "code",
   "execution_count": 9,
   "source": [
    "from cvxopt import matrix, solvers\n",
    "Q = 2*matrix([ [2, .5], [.5, 1] ])\n",
    "p = matrix([1.0, 1.0])\n",
    "G = matrix([[-1.0,0.0],[0.0,-1.0]])\n",
    "h = matrix([0.0,0.0])\n",
    "A = matrix([1.0, 1.0], (1,2))\n",
    "b = matrix(1.0)\n",
    "sol=solvers.qp(Q, p, G, h, A, b)\n",
    "print(sol)\n",
    "print(sol['x'])"
   ],
   "outputs": [
    {
     "output_type": "stream",
     "name": "stdout",
     "text": [
      "{'x': <2x1 matrix, tc='d'>, 'y': <1x1 matrix, tc='d'>, 's': <2x1 matrix, tc='d'>, 'z': <2x1 matrix, tc='d'>, 'status': 'optimal', 'gap': 1.0527028380515569e-07, 'relative gap': 5.6144154514915067e-08, 'primal objective': 1.8750000000000182, 'dual objective': 1.8749998947297344, 'primal infeasibility': 2.482534153247273e-16, 'dual infeasibility': 5.3147593337403756e-08, 'primal slack': 0.2500000952702474, 'dual slack': 1.0000000000000035e-08, 'iterations': 4}\n",
      "[ 2.50e-01]\n",
      "[ 7.50e-01]\n",
      "\n"
     ]
    }
   ],
   "metadata": {}
  }
 ],
 "metadata": {
  "orig_nbformat": 4,
  "language_info": {
   "name": "python",
   "version": "3.8.10",
   "mimetype": "text/x-python",
   "codemirror_mode": {
    "name": "ipython",
    "version": 3
   },
   "pygments_lexer": "ipython3",
   "nbconvert_exporter": "python",
   "file_extension": ".py"
  },
  "kernelspec": {
   "name": "python3",
   "display_name": "Python 3.8.10 64-bit ('mlp': conda)"
  },
  "interpreter": {
   "hash": "d5bf6591dea9055e566ac0067666b43f12209768e386ee97aa6dd19c01f71ee7"
  }
 },
 "nbformat": 4,
 "nbformat_minor": 2
}