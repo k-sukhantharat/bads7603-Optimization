{
 "cells": [
  {
   "cell_type": "code",
   "execution_count": 183,
   "source": [
    "import numpy as np\n",
    "from numpy.linalg import inv, solve"
   ],
   "outputs": [],
   "metadata": {}
  },
  {
   "cell_type": "markdown",
   "source": [
    "# initial variable from derive - P, q, A, b"
   ],
   "metadata": {}
  },
  {
   "cell_type": "code",
   "execution_count": 184,
   "source": [
    "P = np.array([  [3  ,2  ,-1],\n",
    "                [2  ,4  ,-1],\n",
    "                [-1 ,-1 ,4]])\n",
    "q = np.array([  -1,\n",
    "                5,\n",
    "                8]).reshape(3,1)\n",
    "A = np.array([ 2,-1,1]).reshape(1,3)\n",
    "b = np.array([1]).reshape(1,1)"
   ],
   "outputs": [],
   "metadata": {}
  },
  {
   "cell_type": "code",
   "execution_count": 185,
   "source": [
    "print('P:', P.shape)\n",
    "print('q:', q.shape)\n",
    "print('A:', A.shape)\n",
    "print('b:', b.shape)"
   ],
   "outputs": [
    {
     "output_type": "stream",
     "name": "stdout",
     "text": [
      "P: (3, 3)\n",
      "q: (3, 1)\n",
      "A: (1, 3)\n",
      "b: (1, 1)\n"
     ]
    }
   ],
   "metadata": {}
  },
  {
   "cell_type": "code",
   "execution_count": 186,
   "source": [
    "lamba_opt = ((A @ inv(P) @ q) - b) / (A @ inv(P) @ A.T)\n",
    "print('lamba:', lamba_opt)"
   ],
   "outputs": [
    {
     "output_type": "stream",
     "name": "stdout",
     "text": [
      "lamba: [[-0.88495575]]\n"
     ]
    }
   ],
   "metadata": {}
  },
  {
   "cell_type": "code",
   "execution_count": 187,
   "source": [
    "x_opt = inv(P) @ (q - (lamba_opt * A.T))\n",
    "print('x_opt:', x_opt)"
   ],
   "outputs": [
    {
     "output_type": "stream",
     "name": "stdout",
     "text": [
      "x_opt: [[0.01769912]\n",
      " [1.68141593]\n",
      " [2.6460177 ]]\n"
     ]
    }
   ],
   "metadata": {}
  },
  {
   "cell_type": "markdown",
   "source": [
    "# positive definite"
   ],
   "metadata": {}
  },
  {
   "cell_type": "code",
   "execution_count": 188,
   "source": [
    "def is_pos_def(x):\n",
    "    return np.all(np.linalg.eigvals(x) > 0)"
   ],
   "outputs": [],
   "metadata": {}
  },
  {
   "cell_type": "code",
   "execution_count": 189,
   "source": [
    "print('P is positive definite:', is_pos_def(P))"
   ],
   "outputs": [
    {
     "output_type": "stream",
     "name": "stdout",
     "text": [
      "P is positive definite: True\n"
     ]
    }
   ],
   "metadata": {}
  },
  {
   "cell_type": "markdown",
   "source": [
    "# positive semi-definite"
   ],
   "metadata": {}
  },
  {
   "cell_type": "code",
   "execution_count": 190,
   "source": [
    "def is_pos_semi_def(x):\n",
    "    return np.all(np.linalg.eigvals(x) >= 0)"
   ],
   "outputs": [],
   "metadata": {}
  },
  {
   "cell_type": "code",
   "execution_count": 199,
   "source": [
    "F = np.array([  [1/2.,-1/2.],\n",
    "                [1  ,0],\n",
    "                [0  ,1]])\n",
    "\n",
    "x_ = np.array([ 1,\n",
    "                1,\n",
    "                0]).reshape(3,1)\n"
   ],
   "outputs": [],
   "metadata": {}
  },
  {
   "cell_type": "code",
   "execution_count": 200,
   "source": [
    "x_.shape"
   ],
   "outputs": [
    {
     "output_type": "execute_result",
     "data": {
      "text/plain": [
       "(3, 1)"
      ]
     },
     "metadata": {},
     "execution_count": 200
    }
   ],
   "metadata": {}
  },
  {
   "cell_type": "code",
   "execution_count": 201,
   "source": [
    "print(x_)"
   ],
   "outputs": [
    {
     "output_type": "stream",
     "name": "stdout",
     "text": [
      "[[1]\n",
      " [1]\n",
      " [0]]\n"
     ]
    }
   ],
   "metadata": {}
  },
  {
   "cell_type": "code",
   "execution_count": 202,
   "source": [
    "z = inv(F.T @ P @ F) \\\n",
    "    @ ((F.T @ q) - (F.T @ P @ x_))\n",
    "print('z:',z)"
   ],
   "outputs": [
    {
     "output_type": "stream",
     "name": "stdout",
     "text": [
      "z: [[0.68141593]\n",
      " [2.6460177 ]]\n"
     ]
    }
   ],
   "metadata": {}
  },
  {
   "cell_type": "markdown",
   "source": [
    "## numpy.linalg.solve\n",
    "x = np.linalg.solve(a, b) \n",
    "\n",
    "x = a^-1 @ b"
   ],
   "metadata": {}
  },
  {
   "cell_type": "code",
   "execution_count": 203,
   "source": [
    "z = solve(F.T @ P @ F,((F.T @ q) - (F.T @ P @ x_)))\n",
    "print('z:',z)"
   ],
   "outputs": [
    {
     "output_type": "stream",
     "name": "stdout",
     "text": [
      "z: [[0.68141593]\n",
      " [2.6460177 ]]\n"
     ]
    }
   ],
   "metadata": {}
  },
  {
   "cell_type": "code",
   "execution_count": 204,
   "source": [
    "def f(x):\n",
    "    return (1/2.*(x.T @ P @ x)) - (q.T @ x)"
   ],
   "outputs": [],
   "metadata": {}
  },
  {
   "cell_type": "code",
   "execution_count": 205,
   "source": [
    "x_opt = np.array([ 0.018, 1.681, 2.646])\n",
    "print('minimize f(x):', f(x_opt))"
   ],
   "outputs": [
    {
     "output_type": "stream",
     "name": "stdout",
     "text": [
      "minimize f(x): [-14.335398]\n"
     ]
    }
   ],
   "metadata": {}
  },
  {
   "cell_type": "code",
   "execution_count": 206,
   "source": [
    "def f_(z):\n",
    "    x = (F @ z) + x_\n",
    "    return f(x)\n",
    "\n",
    "print('minimize f(z):', f_(z))"
   ],
   "outputs": [
    {
     "output_type": "stream",
     "name": "stdout",
     "text": [
      "minimize f(z): [[-14.33628319]]\n"
     ]
    }
   ],
   "metadata": {}
  },
  {
   "cell_type": "code",
   "execution_count": 207,
   "source": [
    "x = (F @ z) + x_\n",
    "print(x)"
   ],
   "outputs": [
    {
     "output_type": "stream",
     "name": "stdout",
     "text": [
      "[[0.01769912]\n",
      " [1.68141593]\n",
      " [2.6460177 ]]\n"
     ]
    }
   ],
   "metadata": {}
  },
  {
   "cell_type": "code",
   "execution_count": null,
   "source": [],
   "outputs": [],
   "metadata": {}
  }
 ],
 "metadata": {
  "orig_nbformat": 4,
  "language_info": {
   "name": "python",
   "version": "3.8.10",
   "mimetype": "text/x-python",
   "codemirror_mode": {
    "name": "ipython",
    "version": 3
   },
   "pygments_lexer": "ipython3",
   "nbconvert_exporter": "python",
   "file_extension": ".py"
  },
  "kernelspec": {
   "name": "python3",
   "display_name": "Python 3.8.10 64-bit ('mlp': conda)"
  },
  "interpreter": {
   "hash": "d5bf6591dea9055e566ac0067666b43f12209768e386ee97aa6dd19c01f71ee7"
  }
 },
 "nbformat": 4,
 "nbformat_minor": 2
}