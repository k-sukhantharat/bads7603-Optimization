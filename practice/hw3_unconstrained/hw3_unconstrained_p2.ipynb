{
 "cells": [
  {
   "cell_type": "code",
   "execution_count": 1,
   "source": [
    "import numpy as np\n",
    "import math\n",
    "import matplotlib.pyplot as plt"
   ],
   "outputs": [],
   "metadata": {}
  },
  {
   "cell_type": "code",
   "execution_count": 2,
   "source": [
    "x0 = np.array([[9],[1]])\n",
    "print('x shape:',x0.shape)"
   ],
   "outputs": [
    {
     "output_type": "stream",
     "name": "stdout",
     "text": [
      "x shape: (2, 1)\n"
     ]
    }
   ],
   "metadata": {}
  },
  {
   "cell_type": "code",
   "execution_count": 3,
   "source": [
    "def t(x,a):\n",
    "    x1 = float(x[0])\n",
    "    x2 = float(x[1])\n",
    "    return (math.pow(x1,2) + (math.pow(a,2)*math.pow(x2,2)))/(math.pow(x1,2) + (math.pow(a,3)*math.pow(x2,2)))"
   ],
   "outputs": [],
   "metadata": {}
  },
  {
   "cell_type": "code",
   "execution_count": 7,
   "source": [
    "def f_gradients(x,a):\n",
    "    x1 = float(x[0]) * -1\n",
    "    x2 = float(x[1]) * -1 * a\n",
    "    return np.array([[x1],[x2]])"
   ],
   "outputs": [],
   "metadata": {}
  },
  {
   "cell_type": "code",
   "execution_count": 8,
   "source": [
    "def f(x,a):\n",
    "    x1 = float(x[0])\n",
    "    x2 = float(x[1])\n",
    "    return 1/2 * (math.pow(x1, 2) + (a * math.pow(x2, 2)))"
   ],
   "outputs": [],
   "metadata": {}
  },
  {
   "cell_type": "code",
   "execution_count": 9,
   "source": [
    "def steepest_descent(x,a,k=200):\n",
    "    x_hist = [x]\n",
    "    for i in range(k):\n",
    "        x = x + ( t(x,a) * f_gradients(x,a) )\n",
    "        x_hist.append(x)\n",
    "    return x_hist,[f(x,a) for x in x_hist]"
   ],
   "outputs": [],
   "metadata": {}
  },
  {
   "cell_type": "code",
   "execution_count": 10,
   "source": [
    "# initial\n",
    "k = 3       #197\n",
    "a = 10      #10\n",
    "x_hist, f_hist = steepest_descent(x0, a, k)\n",
    "\n",
    "print(min(f_hist))"
   ],
   "outputs": [
    {
     "output_type": "stream",
     "name": "stdout",
     "text": [
      "13.499579819864133\n"
     ]
    }
   ],
   "metadata": {}
  },
  {
   "cell_type": "code",
   "execution_count": 11,
   "source": [
    "x1_plot = [float(x[0]) for x in x_hist]\n",
    "x2_plot = [float(x[1]) for x in x_hist]\n",
    "\n",
    "xlist = np.linspace(-2.5, 10.0, 100)\n",
    "ylist = np.linspace(-3.5, 3.5, 100)\n",
    "X, Y = np.meshgrid(xlist, ylist)\n",
    "Z = 1/2 * (X**2 + (a * Y**2))\n",
    "fig, ax = plt.subplots(1,1)\n",
    "cp = ax.contourf(X, Y, Z)\n",
    "fig.colorbar(cp)\n",
    "ax.set_xlabel('x1')\n",
    "ax.set_ylabel('x2')\n",
    "ax.plot(x1_plot, x2_plot)\n",
    "plt.show()"
   ],
   "outputs": [
    {
     "output_type": "display_data",
     "data": {
      "image/png": "[encoded data removed]",
      "text/plain": [
       "<Figure size 432x288 with 2 Axes>"
      ]
     },
     "metadata": {
      "needs_background": "light"
     }
    }
   ],
   "metadata": {}
  }
 ],
 "metadata": {
  "orig_nbformat": 4,
  "language_info": {
   "name": "python",
   "version": "3.8.10",
   "mimetype": "text/x-python",
   "codemirror_mode": {
    "name": "ipython",
    "version": 3
   },
   "pygments_lexer": "ipython3",
   "nbconvert_exporter": "python",
   "file_extension": ".py"
  },
  "kernelspec": {
   "name": "python3",
   "display_name": "Python 3.8.10 64-bit ('mlp': conda)"
  },
  "interpreter": {
   "hash": "d5bf6591dea9055e566ac0067666b43f12209768e386ee97aa6dd19c01f71ee7"
  }
 },
 "nbformat": 4,
 "nbformat_minor": 2
}