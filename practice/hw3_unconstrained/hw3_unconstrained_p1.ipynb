{
 "cells": [
  {
   "cell_type": "code",
   "execution_count": 199,
   "source": [
    "import pandas as pd\n",
    "import numpy as np\n",
    "import matplotlib.pyplot as plt"
   ],
   "outputs": [],
   "metadata": {}
  },
  {
   "cell_type": "markdown",
   "source": [
    "# dataset - A, b"
   ],
   "metadata": {}
  },
  {
   "cell_type": "code",
   "execution_count": 200,
   "source": [
    "A = pd.read_csv('data_logsumexp_A.csv', header=None)\n",
    "print(type(A))\n",
    "A = np.array(A)\n",
    "print(type(A))\n",
    "print(A.shape)"
   ],
   "outputs": [
    {
     "output_type": "stream",
     "name": "stdout",
     "text": [
      "<class 'pandas.core.frame.DataFrame'>\n",
      "<class 'numpy.ndarray'>\n",
      "(300, 100)\n"
     ]
    }
   ],
   "metadata": {}
  },
  {
   "cell_type": "code",
   "execution_count": 201,
   "source": [
    "b = pd.read_csv('data_logsumexp_b.csv', header=None)\n",
    "b = np.array(b)\n",
    "print(b.shape)"
   ],
   "outputs": [
    {
     "output_type": "stream",
     "name": "stdout",
     "text": [
      "(300, 1)\n"
     ]
    }
   ],
   "metadata": {}
  },
  {
   "cell_type": "markdown",
   "source": [
    "# initial"
   ],
   "metadata": {}
  },
  {
   "cell_type": "code",
   "execution_count": 202,
   "source": [
    "m, n = A.shape\n",
    "epsilon = 1e-15"
   ],
   "outputs": [],
   "metadata": {}
  },
  {
   "cell_type": "code",
   "execution_count": 203,
   "source": [
    "# x0 = np.ones((n,1))\n",
    "x0 = np.random.rand(n,1)"
   ],
   "outputs": [],
   "metadata": {}
  },
  {
   "cell_type": "code",
   "execution_count": 204,
   "source": [
    "def f(x):\n",
    "    return np.log(np.sum(np.exp(A @ x + b)))"
   ],
   "outputs": [],
   "metadata": {}
  },
  {
   "cell_type": "code",
   "execution_count": 216,
   "source": [
    "def f_gradients(x):\n",
    "    results = np.empty_like(x)\n",
    "    for i in range(n):\n",
    "        a = A[:,i]\n",
    "        # result = np.sum(np.dot(np.exp(A @ x + b).reshape(m,),a))\n",
    "        # result = (1/(np.sum(np.exp(A @ x + b)))) * result\n",
    "        result = (1/(np.sum(np.exp(A @ x + b)))) * \\\n",
    "                np.sum(np.dot(np.exp(A @ x + b).reshape(m,),a))\n",
    "        results[i] = [result]\n",
    "    return results"
   ],
   "outputs": [],
   "metadata": {}
  },
  {
   "cell_type": "markdown",
   "source": [
    "# steepest-descent method"
   ],
   "metadata": {}
  },
  {
   "cell_type": "code",
   "execution_count": 206,
   "source": [
    "def steepest_descent(x, max_iterations, t):\n",
    "    results = []\n",
    "    results.append(f(x))\n",
    "    k = 1\n",
    "    while True:\n",
    "        x = x + (t * -f_gradients(x))\n",
    "        results.append(f(x))\n",
    "        if k == max_iterations or abs(results[-1] - results[-2]) <= epsilon:\n",
    "            break\n",
    "        else:\n",
    "            k += 1\n",
    "    return results"
   ],
   "outputs": [],
   "metadata": {}
  },
  {
   "cell_type": "markdown",
   "source": [
    "# FISTA"
   ],
   "metadata": {}
  },
  {
   "cell_type": "code",
   "execution_count": 207,
   "source": [
    "def fista(x, max_iterations, t):\n",
    "    results = []\n",
    "    results.append(f(x))\n",
    "    k = 1\n",
    "    y = x\n",
    "    gamma = 1\n",
    "    while True:\n",
    "        x_prev = x\n",
    "        x = y - t * f_gradients(y)\n",
    "        results.append(f(x))\n",
    "\n",
    "        # for next iteration\n",
    "        gamma_next = (1 + np.sqrt(1 + 4*(gamma ** 2)))/2\n",
    "        y = x + (((gamma - 1)/gamma_next) * (x - x_prev))\n",
    "        gamma = gamma_next\n",
    "        if k == max_iterations or abs(results[-1] - results[-2]) <= epsilon:\n",
    "            break\n",
    "        else:\n",
    "            k += 1\n",
    "    return results"
   ],
   "outputs": [],
   "metadata": {}
  },
  {
   "cell_type": "markdown",
   "source": [
    "# find p* by steepest-descent method\n",
    "- result from SD method, FISTA"
   ],
   "metadata": {}
  },
  {
   "cell_type": "code",
   "execution_count": 208,
   "source": [
    "t1 = 0.1\n",
    "max_iterations = -1\n",
    "f_SD_t1 = steepest_descent(x0,max_iterations,t1)\n",
    "p_opt = min(f_SD_t1)\n",
    "print('p* =',p_opt)"
   ],
   "outputs": [
    {
     "output_type": "stream",
     "name": "stdout",
     "text": [
      "p* = 5.610898008665338\n"
     ]
    }
   ],
   "metadata": {}
  },
  {
   "cell_type": "code",
   "execution_count": 209,
   "source": [
    "max_iterations = 300\n",
    "f_FT_t1 = fista(x0,max_iterations,t1)\n",
    "print(len(f_FT_t1))"
   ],
   "outputs": [
    {
     "output_type": "stream",
     "name": "stdout",
     "text": [
      "301\n"
     ]
    }
   ],
   "metadata": {}
  },
  {
   "cell_type": "markdown",
   "source": [
    "# Plot - result"
   ],
   "metadata": {}
  },
  {
   "cell_type": "code",
   "execution_count": 210,
   "source": [
    "fig, ax = plt.subplots()\n",
    "ax.plot([x for x in range(len(f_SD_t1))], f_SD_t1, label='f(x)')\n",
    "ax.set_title(\"t = 0.01\")\n",
    "ax.set_xlabel(\"k\")\n",
    "ax.set_ylabel(\"f(x)\")\n",
    "ax.legend(loc='upper right')\n",
    "ax.set_xlim(0,200)\n",
    "plt.show()"
   ],
   "outputs": [
    {
     "output_type": "display_data",
     "data": {
      "image/png": "[encoded data removed]",
      "text/plain": [
       "<Figure size 432x288 with 1 Axes>"
      ]
     },
     "metadata": {
      "needs_background": "light"
     }
    }
   ],
   "metadata": {}
  },
  {
   "cell_type": "code",
   "execution_count": 211,
   "source": [
    "fig, ax = plt.subplots()\n",
    "ax.plot([x for x in range(len(f_FT_t1))], f_FT_t1, label='f(x)')\n",
    "ax.set_title(\"t = 0.01\")\n",
    "ax.set_xlabel(\"k\")\n",
    "ax.set_ylabel(\"f(x)\")\n",
    "ax.legend(loc='upper right')\n",
    "ax.set_xlim(0,200)\n",
    "plt.show()"
   ],
   "outputs": [
    {
     "output_type": "display_data",
     "data": {
      "image/png": "[encoded data removed]",
      "text/plain": [
       "<Figure size 432x288 with 1 Axes>"
      ]
     },
     "metadata": {
      "needs_background": "light"
     }
    }
   ],
   "metadata": {}
  },
  {
   "cell_type": "code",
   "execution_count": 215,
   "source": [
    "f_err_SD = [abs(f_curr - p_opt)/abs(p_opt) for f_curr in f_SD_t1[:200]]\n",
    "f_err_FISTA = [abs(f_curr - p_opt)/abs(p_opt) for f_curr in f_FT_t1[:200]]\n",
    "\n",
    "fig, ax = plt.subplots()\n",
    "ax.plot([x for x in range(len(f_err_SD))], f_err_SD, label='Gradient-descent')\n",
    "ax.plot([x for x in range(len(f_err_FISTA))], f_err_FISTA, label='FISTA')\n",
    "ax.set_title(\"t = 0.1\")\n",
    "ax.set_xlabel(\"k\")\n",
    "ax.set_ylabel(\"|f(x)-p*| / |p*|\")\n",
    "ax.set_yscale('log')\n",
    "ax.legend(loc='upper right')\n",
    "plt.show()"
   ],
   "outputs": [
    {
     "output_type": "display_data",
     "data": {
      "image/png": "[encoded data removed]",
      "text/plain": [
       "<Figure size 432x288 with 1 Axes>"
      ]
     },
     "metadata": {
      "needs_background": "light"
     }
    }
   ],
   "metadata": {}
  }
 ],
 "metadata": {
  "orig_nbformat": 4,
  "language_info": {
   "name": "python",
   "version": "3.8.10",
   "mimetype": "text/x-python",
   "codemirror_mode": {
    "name": "ipython",
    "version": 3
   },
   "pygments_lexer": "ipython3",
   "nbconvert_exporter": "python",
   "file_extension": ".py"
  },
  "kernelspec": {
   "name": "python3",
   "display_name": "Python 3.8.10 64-bit ('mlp': conda)"
  },
  "interpreter": {
   "hash": "d5bf6591dea9055e566ac0067666b43f12209768e386ee97aa6dd19c01f71ee7"
  }
 },
 "nbformat": 4,
 "nbformat_minor": 2
}