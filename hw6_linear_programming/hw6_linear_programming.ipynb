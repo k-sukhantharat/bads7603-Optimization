{
 "cells": [
  {
   "cell_type": "code",
   "execution_count": 42,
   "source": [
    "import pandas as pd\n",
    "import numpy as np\n",
    "import matplotlib.pyplot as plt"
   ],
   "outputs": [],
   "metadata": {}
  },
  {
   "cell_type": "code",
   "execution_count": 43,
   "source": [
    "# Read file\n",
    "data = pd.read_csv('./data-sparse-recov.csv', header=None).to_numpy()"
   ],
   "outputs": [],
   "metadata": {}
  },
  {
   "cell_type": "code",
   "execution_count": 44,
   "source": [
    "# for L2-norm\n",
    "A = data[:,:-1]\n",
    "y = data[:,-1]\n",
    "print('A:',A.shape)\n",
    "print('y:',y.shape)\n",
    "x, residuals, rank, s = np.linalg.lstsq(A, y)\n",
    "print('x:',x.shape)"
   ],
   "outputs": [
    {
     "output_type": "stream",
     "name": "stdout",
     "text": [
      "A: (100, 200)\n",
      "y: (100,)\n",
      "x: (200,)\n"
     ]
    },
    {
     "output_type": "stream",
     "name": "stderr",
     "text": [
      "/var/folders/81/801rlldj66b9mqn09r7s37jr0000gn/T/ipykernel_55706/451582046.py:6: FutureWarning: `rcond` parameter will change to the default of machine precision times ``max(M, N)`` where M and N are the input matrix dimensions.\n",
      "To use the future default and silence this warning we advise to pass `rcond=None`, to keep using the old, explicitly pass `rcond=-1`.\n",
      "  x, residuals, rank, s = np.linalg.lstsq(A, y)\n"
     ]
    }
   ],
   "metadata": {}
  },
  {
   "cell_type": "code",
   "execution_count": 45,
   "source": [
    "bins = 50\n",
    "plt.hist(x, density=True, bins=bins, edgecolor=\"black\", label='L2-norm solution')\n",
    "plt.xlabel(\"x\")\n",
    "plt.ylabel(\"Normalized frequency\")\n",
    "plt.legend(loc='upper right')\n",
    "plt.xlim(-2.5,3)\n",
    "plt.show()"
   ],
   "outputs": [
    {
     "output_type": "display_data",
     "data": {
      "image/png": "[encoded data removed]",
      "text/plain": [
       "<Figure size 432x288 with 1 Axes>"
      ]
     },
     "metadata": {
      "needs_background": "light"
     }
    }
   ],
   "metadata": {}
  }
 ],
 "metadata": {
  "orig_nbformat": 4,
  "language_info": {
   "name": "python",
   "version": "3.8.10",
   "mimetype": "text/x-python",
   "codemirror_mode": {
    "name": "ipython",
    "version": 3
   },
   "pygments_lexer": "ipython3",
   "nbconvert_exporter": "python",
   "file_extension": ".py"
  },
  "kernelspec": {
   "name": "python3",
   "display_name": "Python 3.8.10 64-bit ('mlp': conda)"
  },
  "interpreter": {
   "hash": "d5bf6591dea9055e566ac0067666b43f12209768e386ee97aa6dd19c01f71ee7"
  }
 },
 "nbformat": 4,
 "nbformat_minor": 2
}