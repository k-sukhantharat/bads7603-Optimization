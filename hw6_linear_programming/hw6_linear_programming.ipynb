{
 "cells": [
  {
   "cell_type": "code",
   "execution_count": 1,
   "source": [
    "import pandas as pd\n",
    "import numpy as np\n",
    "import matplotlib.pyplot as plt\n",
    "from scipy.optimize import linprog\n",
    "from sklearn import preprocessing"
   ],
   "outputs": [],
   "metadata": {}
  },
  {
   "cell_type": "code",
   "execution_count": 2,
   "source": [
    "# Read file\n",
    "data = pd.read_csv('./data-sparse-recov.csv', header=None).to_numpy()"
   ],
   "outputs": [],
   "metadata": {}
  },
  {
   "cell_type": "markdown",
   "source": [
    "# L2 Norm"
   ],
   "metadata": {}
  },
  {
   "cell_type": "code",
   "execution_count": 3,
   "source": [
    "A = data[:,:-1]\n",
    "y = data[:,-1]\n",
    "print('A:',A.shape)\n",
    "print('y:',y.shape)\n",
    "x, residuals, rank, s = np.linalg.lstsq(A, y)\n",
    "print('x:',x.shape)"
   ],
   "outputs": [
    {
     "output_type": "stream",
     "name": "stdout",
     "text": [
      "A: (100, 200)\n",
      "y: (100,)\n",
      "x: (200,)\n"
     ]
    },
    {
     "output_type": "stream",
     "name": "stderr",
     "text": [
      "/var/folders/81/801rlldj66b9mqn09r7s37jr0000gn/T/ipykernel_17814/702069271.py:5: FutureWarning: `rcond` parameter will change to the default of machine precision times ``max(M, N)`` where M and N are the input matrix dimensions.\n",
      "To use the future default and silence this warning we advise to pass `rcond=None`, to keep using the old, explicitly pass `rcond=-1`.\n",
      "  x, residuals, rank, s = np.linalg.lstsq(A, y)\n"
     ]
    }
   ],
   "metadata": {}
  },
  {
   "cell_type": "markdown",
   "source": [
    "# L1 Norm"
   ],
   "metadata": {}
  },
  {
   "cell_type": "code",
   "execution_count": 4,
   "source": [
    "A = data[:, :-1]\n",
    "b = data[:,-1]"
   ],
   "outputs": [],
   "metadata": {}
  },
  {
   "cell_type": "code",
   "execution_count": 5,
   "source": [
    "one = np.ones(200).reshape(200, 1)"
   ],
   "outputs": [],
   "metadata": {}
  },
  {
   "cell_type": "code",
   "execution_count": 6,
   "source": [
    "zero = np.zeros(200).reshape(200,1)"
   ],
   "outputs": [],
   "metadata": {}
  },
  {
   "cell_type": "code",
   "execution_count": 7,
   "source": [
    "c = np.concatenate((zero, one), axis=0)"
   ],
   "outputs": [],
   "metadata": {}
  },
  {
   "cell_type": "code",
   "execution_count": 8,
   "source": [
    "c.shape"
   ],
   "outputs": [
    {
     "output_type": "execute_result",
     "data": {
      "text/plain": [
       "(400, 1)"
      ]
     },
     "metadata": {},
     "execution_count": 8
    }
   ],
   "metadata": {}
  },
  {
   "cell_type": "code",
   "execution_count": 9,
   "source": [
    "A_ub = np.concatenate((-np.identity(200), -np.identity(200)), axis=1)"
   ],
   "outputs": [],
   "metadata": {}
  },
  {
   "cell_type": "code",
   "execution_count": 10,
   "source": [
    "A_ub.shape"
   ],
   "outputs": [
    {
     "output_type": "execute_result",
     "data": {
      "text/plain": [
       "(200, 400)"
      ]
     },
     "metadata": {},
     "execution_count": 10
    }
   ],
   "metadata": {}
  },
  {
   "cell_type": "code",
   "execution_count": 11,
   "source": [
    "A_ub = np.concatenate((A_ub, np.concatenate((np.identity(200), -np.identity(200)), axis=1)), axis=0)"
   ],
   "outputs": [],
   "metadata": {}
  },
  {
   "cell_type": "code",
   "execution_count": 12,
   "source": [
    "A_ub.shape"
   ],
   "outputs": [
    {
     "output_type": "execute_result",
     "data": {
      "text/plain": [
       "(400, 400)"
      ]
     },
     "metadata": {},
     "execution_count": 12
    }
   ],
   "metadata": {}
  },
  {
   "cell_type": "code",
   "execution_count": 13,
   "source": [
    "h = np.zeros(400).reshape(400,1)"
   ],
   "outputs": [],
   "metadata": {}
  },
  {
   "cell_type": "code",
   "execution_count": 14,
   "source": [
    "h.shape"
   ],
   "outputs": [
    {
     "output_type": "execute_result",
     "data": {
      "text/plain": [
       "(400, 1)"
      ]
     },
     "metadata": {},
     "execution_count": 14
    }
   ],
   "metadata": {}
  },
  {
   "cell_type": "code",
   "execution_count": 15,
   "source": [
    "A_eq = np.concatenate((A, np.zeros((100, 200))), axis=1)"
   ],
   "outputs": [],
   "metadata": {}
  },
  {
   "cell_type": "code",
   "execution_count": 16,
   "source": [
    "A_eq.shape"
   ],
   "outputs": [
    {
     "output_type": "execute_result",
     "data": {
      "text/plain": [
       "(100, 400)"
      ]
     },
     "metadata": {},
     "execution_count": 16
    }
   ],
   "metadata": {}
  },
  {
   "cell_type": "code",
   "execution_count": 17,
   "source": [
    "# A_ub @ x <= b_ub\n",
    "# A_eq @ x == b_eq\n",
    "\n",
    "res = linprog(c, A_eq=A_eq, b_eq=b, A_ub=A_ub, b_ub=h, bounds=(None, None))"
   ],
   "outputs": [],
   "metadata": {}
  },
  {
   "cell_type": "code",
   "execution_count": 18,
   "source": [
    "res.x[:200]"
   ],
   "outputs": [
    {
     "output_type": "execute_result",
     "data": {
      "text/plain": [
       "array([ 8.73248293e-01, -1.36553762e+00,  4.67825778e-12,  5.15387745e-01,\n",
       "        4.33231229e-12, -4.61143130e-01, -4.51905180e-11,  7.59110859e-02,\n",
       "       -2.04584877e-01, -7.34523553e-13,  2.49894684e+00,  1.63543729e+00,\n",
       "        1.80522264e-12,  1.09336090e+00, -1.76447745e-11, -1.54695245e+00,\n",
       "       -6.12998541e-12,  2.07903652e-01,  1.08289724e+00, -1.61781699e-12,\n",
       "        1.32593200e-01, -1.19477761e-11,  5.70650074e-02,  7.77986958e-02,\n",
       "        4.75964043e-01, -1.86006766e-12,  2.07389661e-12,  1.47161157e+00,\n",
       "       -3.58379992e-13, -1.39799283e-12,  2.28861374e-12, -3.42059714e-12,\n",
       "       -1.01030295e-13, -2.90230617e-09, -1.17150734e-12, -3.55271368e-14,\n",
       "        1.55475632e-12, -1.04296571e-11,  3.70949697e-01, -2.04052331e-11,\n",
       "        1.84274818e-12,  5.91941982e-01,  1.77258208e-12,  1.52730414e+00,\n",
       "        1.08149932e+00, -7.11125690e-01,  1.07625020e-12,  1.15754792e-01,\n",
       "        2.88413737e-12,  1.56665791e-11, -8.87728348e-02,  3.47208274e-01,\n",
       "        2.25908181e-12, -9.34579951e-01, -9.37694367e-13, -1.30739863e-12,\n",
       "        2.51554333e-12,  1.86573295e-01,  3.07398551e-12, -3.00464351e-01,\n",
       "        5.98854299e-13, -7.97584221e-13,  3.62953913e-02,  7.88423760e-02,\n",
       "       -4.23267513e-02, -2.34345876e-12,  5.39612799e-12, -2.51356713e-11,\n",
       "        1.59205982e-13,  2.01417385e+00, -6.05447888e-01, -2.26919617e+00,\n",
       "        1.12587717e-11, -4.37205827e-13,  4.44439373e-01,  1.61670677e-12,\n",
       "       -2.04303241e-12, -9.56488830e-01,  4.89808194e-12,  9.24490330e-01,\n",
       "       -6.31166007e-01, -5.45785639e-13,  3.05333536e-12,  2.59792188e-13,\n",
       "        1.01474384e-11,  3.42180589e-01,  6.09515319e-02,  6.23917741e-01,\n",
       "       -1.56608060e-12,  2.75934831e-12,  2.12989626e-11,  2.92951620e-01,\n",
       "        1.24309436e+00, -1.56366861e+00,  5.81999084e-01,  1.53791872e-01,\n",
       "        7.50671147e-01,  4.43467485e-12, -3.87956334e-12,  1.70752301e-13,\n",
       "       -8.03579425e-13,  1.45412571e-11, -1.33715261e-12,  1.02318154e-12,\n",
       "        1.51730418e-01, -9.37251557e-01,  1.54434589e+00, -6.92256881e-01,\n",
       "       -1.40462388e+00, -9.23592965e-01,  3.25045648e-01,  6.53699317e-13,\n",
       "        5.42010881e-13,  4.85789187e-12, -6.94622138e-12,  4.74982711e-01,\n",
       "       -1.41708867e-12, -4.18753920e-12,  1.35313982e-12,  3.55493412e-13,\n",
       "        3.25221332e-01,  1.65016507e-01,  1.76820780e-11, -8.84477194e-01,\n",
       "       -9.13943620e-01, -8.47122372e-12, -4.95115060e-12, -4.06303097e-01,\n",
       "        6.57252031e-13,  3.84803347e-02, -1.78788218e-01,  6.19659879e-12,\n",
       "        6.77724543e-12, -1.64876178e-01, -8.76509928e-03,  2.53264076e-11,\n",
       "       -1.66573541e-02,  2.76756396e-12, -2.12496687e-13, -9.25481913e-13,\n",
       "       -3.22630811e-13,  4.97901875e-01, -4.70572663e-01,  7.21647817e-01,\n",
       "        5.94994188e-01,  7.35678185e-12,  1.44129153e-12, -2.53850012e-01,\n",
       "        2.69124723e-11, -7.00335823e-01,  3.40752895e-01,  1.24524658e-01,\n",
       "       -7.17045914e-01,  5.69366776e-12, -2.33924399e-01,  2.73936013e-01,\n",
       "        5.95713842e-01, -6.10778095e-12, -9.55307841e-02, -4.97824004e-12,\n",
       "        9.97505129e-02, -8.39256145e-01,  1.81055171e-12, -2.37942999e-12,\n",
       "        2.68229883e-12,  2.82474773e+00,  1.33899753e+00,  1.39177558e-12,\n",
       "       -1.56538459e-01, -8.40438830e-13,  1.78812520e-12,  8.19696036e-01,\n",
       "       -4.14369574e-01,  4.03388434e-12, -1.83542070e-12, -1.56698311e-01,\n",
       "       -3.22741833e-12, -2.27684538e-12, -9.35651556e-12,  1.90527132e-01,\n",
       "       -5.20264159e-01, -5.03817399e-01, -1.63764902e+00, -3.73279185e-12,\n",
       "       -1.56745411e+00, -6.24167384e-13, -1.38955514e-12,  4.39381864e-12,\n",
       "        1.27485682e+00, -5.78825876e-12, -4.45016830e-01,  1.07624734e+00,\n",
       "        1.10500739e+00, -3.71285287e-01, -8.83733194e-01,  4.54435831e-01,\n",
       "        1.06510356e-11, -2.30005763e+00,  3.73265786e-01, -1.50266466e-11])"
      ]
     },
     "metadata": {},
     "execution_count": 18
    }
   ],
   "metadata": {}
  },
  {
   "cell_type": "code",
   "execution_count": 19,
   "source": [
    "res.x"
   ],
   "outputs": [
    {
     "output_type": "execute_result",
     "data": {
      "text/plain": [
       "array([ 8.73248293e-01, -1.36553762e+00,  4.67825778e-12,  5.15387745e-01,\n",
       "        4.33231229e-12, -4.61143130e-01, -4.51905180e-11,  7.59110859e-02,\n",
       "       -2.04584877e-01, -7.34523553e-13,  2.49894684e+00,  1.63543729e+00,\n",
       "        1.80522264e-12,  1.09336090e+00, -1.76447745e-11, -1.54695245e+00,\n",
       "       -6.12998541e-12,  2.07903652e-01,  1.08289724e+00, -1.61781699e-12,\n",
       "        1.32593200e-01, -1.19477761e-11,  5.70650074e-02,  7.77986958e-02,\n",
       "        4.75964043e-01, -1.86006766e-12,  2.07389661e-12,  1.47161157e+00,\n",
       "       -3.58379992e-13, -1.39799283e-12,  2.28861374e-12, -3.42059714e-12,\n",
       "       -1.01030295e-13, -2.90230617e-09, -1.17150734e-12, -3.55271368e-14,\n",
       "        1.55475632e-12, -1.04296571e-11,  3.70949697e-01, -2.04052331e-11,\n",
       "        1.84274818e-12,  5.91941982e-01,  1.77258208e-12,  1.52730414e+00,\n",
       "        1.08149932e+00, -7.11125690e-01,  1.07625020e-12,  1.15754792e-01,\n",
       "        2.88413737e-12,  1.56665791e-11, -8.87728348e-02,  3.47208274e-01,\n",
       "        2.25908181e-12, -9.34579951e-01, -9.37694367e-13, -1.30739863e-12,\n",
       "        2.51554333e-12,  1.86573295e-01,  3.07398551e-12, -3.00464351e-01,\n",
       "        5.98854299e-13, -7.97584221e-13,  3.62953913e-02,  7.88423760e-02,\n",
       "       -4.23267513e-02, -2.34345876e-12,  5.39612799e-12, -2.51356713e-11,\n",
       "        1.59205982e-13,  2.01417385e+00, -6.05447888e-01, -2.26919617e+00,\n",
       "        1.12587717e-11, -4.37205827e-13,  4.44439373e-01,  1.61670677e-12,\n",
       "       -2.04303241e-12, -9.56488830e-01,  4.89808194e-12,  9.24490330e-01,\n",
       "       -6.31166007e-01, -5.45785639e-13,  3.05333536e-12,  2.59792188e-13,\n",
       "        1.01474384e-11,  3.42180589e-01,  6.09515319e-02,  6.23917741e-01,\n",
       "       -1.56608060e-12,  2.75934831e-12,  2.12989626e-11,  2.92951620e-01,\n",
       "        1.24309436e+00, -1.56366861e+00,  5.81999084e-01,  1.53791872e-01,\n",
       "        7.50671147e-01,  4.43467485e-12, -3.87956334e-12,  1.70752301e-13,\n",
       "       -8.03579425e-13,  1.45412571e-11, -1.33715261e-12,  1.02318154e-12,\n",
       "        1.51730418e-01, -9.37251557e-01,  1.54434589e+00, -6.92256881e-01,\n",
       "       -1.40462388e+00, -9.23592965e-01,  3.25045648e-01,  6.53699317e-13,\n",
       "        5.42010881e-13,  4.85789187e-12, -6.94622138e-12,  4.74982711e-01,\n",
       "       -1.41708867e-12, -4.18753920e-12,  1.35313982e-12,  3.55493412e-13,\n",
       "        3.25221332e-01,  1.65016507e-01,  1.76820780e-11, -8.84477194e-01,\n",
       "       -9.13943620e-01, -8.47122372e-12, -4.95115060e-12, -4.06303097e-01,\n",
       "        6.57252031e-13,  3.84803347e-02, -1.78788218e-01,  6.19659879e-12,\n",
       "        6.77724543e-12, -1.64876178e-01, -8.76509928e-03,  2.53264076e-11,\n",
       "       -1.66573541e-02,  2.76756396e-12, -2.12496687e-13, -9.25481913e-13,\n",
       "       -3.22630811e-13,  4.97901875e-01, -4.70572663e-01,  7.21647817e-01,\n",
       "        5.94994188e-01,  7.35678185e-12,  1.44129153e-12, -2.53850012e-01,\n",
       "        2.69124723e-11, -7.00335823e-01,  3.40752895e-01,  1.24524658e-01,\n",
       "       -7.17045914e-01,  5.69366776e-12, -2.33924399e-01,  2.73936013e-01,\n",
       "        5.95713842e-01, -6.10778095e-12, -9.55307841e-02, -4.97824004e-12,\n",
       "        9.97505129e-02, -8.39256145e-01,  1.81055171e-12, -2.37942999e-12,\n",
       "        2.68229883e-12,  2.82474773e+00,  1.33899753e+00,  1.39177558e-12,\n",
       "       -1.56538459e-01, -8.40438830e-13,  1.78812520e-12,  8.19696036e-01,\n",
       "       -4.14369574e-01,  4.03388434e-12, -1.83542070e-12, -1.56698311e-01,\n",
       "       -3.22741833e-12, -2.27684538e-12, -9.35651556e-12,  1.90527132e-01,\n",
       "       -5.20264159e-01, -5.03817399e-01, -1.63764902e+00, -3.73279185e-12,\n",
       "       -1.56745411e+00, -6.24167384e-13, -1.38955514e-12,  4.39381864e-12,\n",
       "        1.27485682e+00, -5.78825876e-12, -4.45016830e-01,  1.07624734e+00,\n",
       "        1.10500739e+00, -3.71285287e-01, -8.83733194e-01,  4.54435831e-01,\n",
       "        1.06510356e-11, -2.30005763e+00,  3.73265786e-01, -1.50266466e-11,\n",
       "        8.73248293e-01,  1.36553762e+00,  4.94870811e-12,  5.15387745e-01,\n",
       "        4.70889994e-12,  4.61143130e-01,  4.51998439e-11,  7.59110859e-02,\n",
       "        2.04584877e-01,  2.02171613e-12,  2.49894684e+00,  1.63543729e+00,\n",
       "        2.59858801e-12,  1.09336090e+00,  1.77364790e-11,  1.54695245e+00,\n",
       "        6.40665299e-12,  2.07903652e-01,  1.08289724e+00,  2.55373500e-12,\n",
       "        1.32593200e-01,  1.21196386e-11,  5.70650074e-02,  7.77986958e-02,\n",
       "        4.75964043e-01,  2.64521738e-12,  2.80553358e-12,  1.47161157e+00,\n",
       "        1.88937754e-12,  2.39563924e-12,  2.94897440e-12,  3.87845311e-12,\n",
       "        1.88737914e-12,  2.90235325e-09,  2.20223839e-12,  1.91890948e-12,\n",
       "        2.46980214e-12,  1.04944942e-11,  3.70949697e-01,  2.03335127e-11,\n",
       "        2.68496336e-12,  5.91941982e-01,  2.74269496e-12,  1.52730414e+00,\n",
       "        1.08149932e+00,  7.11125690e-01,  2.11697326e-12,  1.15754792e-01,\n",
       "        3.45568019e-12,  1.58335567e-11,  8.87728348e-02,  3.47208274e-01,\n",
       "        2.93032265e-12,  9.34579951e-01,  2.04947170e-12,  2.47624143e-12,\n",
       "        3.17834647e-12,  1.86573295e-01,  3.62243568e-12,  3.00464351e-01,\n",
       "        1.94622096e-12,  2.06479278e-12,  3.62953913e-02,  7.88423760e-02,\n",
       "        4.23267513e-02,  2.94098079e-12,  5.77604631e-12,  2.51898502e-11,\n",
       "        1.94977368e-12,  2.01417385e+00,  6.05447888e-01,  2.26919617e+00,\n",
       "        1.14468435e-11,  1.90092386e-12,  4.44439373e-01,  2.49089638e-12,\n",
       "        2.73581158e-12,  9.56488830e-01,  5.24291721e-12,  9.24490330e-01,\n",
       "        6.31166007e-01,  1.99040784e-12,  3.60200758e-12,  1.87627691e-12,\n",
       "        1.03024256e-11,  3.42180589e-01,  6.09515319e-02,  6.23917741e-01,\n",
       "        2.46513920e-12,  3.39439588e-12,  2.16204832e-11,  2.92951620e-01,\n",
       "        1.24309436e+00,  1.56366861e+00,  5.81999084e-01,  1.53791872e-01,\n",
       "        7.50671147e-01,  4.84878804e-12,  4.36850556e-12,  1.92423855e-12,\n",
       "        2.05080397e-12,  1.45932155e-11,  2.39741560e-12,  2.09943174e-12,\n",
       "        1.51730418e-01,  9.37251557e-01,  1.54434589e+00,  6.92256881e-01,\n",
       "        1.40462388e+00,  9.23592965e-01,  3.25045648e-01,  1.96598293e-12,\n",
       "        2.02415862e-12,  5.20450349e-12,  7.17115256e-12,  4.74982711e-01,\n",
       "        2.37210251e-12,  4.69624339e-12,  2.38675746e-12,  1.93423055e-12,\n",
       "        3.25221332e-01,  1.65016507e-01,  1.77402537e-11,  8.84477194e-01,\n",
       "        9.13943620e-01,  8.74300632e-12,  5.34239319e-12,  4.06303097e-01,\n",
       "        1.96731520e-12,  3.84803347e-02,  1.78788218e-01,  6.52211618e-12,\n",
       "        7.01416702e-12,  1.64876178e-01,  8.76509928e-03,  2.53752575e-11,\n",
       "        1.66573541e-02,  3.32178729e-12,  1.87605487e-12,  2.12363460e-12,\n",
       "        1.93067784e-12,  4.97901875e-01,  4.70572663e-01,  7.21647817e-01,\n",
       "        5.94994188e-01,  7.56839036e-12,  2.37920794e-12,  2.53850012e-01,\n",
       "        2.68229883e-11,  7.00335823e-01,  3.40752895e-01,  1.24524658e-01,\n",
       "        7.17045914e-01,  6.18127771e-12,  2.33924399e-01,  2.73936013e-01,\n",
       "        5.95713842e-01,  6.52544685e-12,  9.55307841e-02,  5.34283728e-12,\n",
       "        9.97505129e-02,  8.39256145e-01,  2.59237076e-12,  3.07665005e-12,\n",
       "        3.26760841e-12,  2.82474773e+00,  1.33899753e+00,  2.33879582e-12,\n",
       "        1.56538459e-01,  2.06923367e-12,  2.50732768e-12,  8.19696036e-01,\n",
       "        4.14369574e-01,  4.47442083e-12,  2.61435318e-12,  1.56698311e-01,\n",
       "        3.54227758e-12,  2.90611979e-12,  9.50506340e-12,  1.90527132e-01,\n",
       "        5.20264159e-01,  5.03817399e-01,  1.63764902e+00,  4.22395452e-12,\n",
       "        1.56745411e+00,  1.97930561e-12,  2.32214248e-12,  4.73709960e-12,\n",
       "        1.27485682e+00,  6.03872508e-12,  4.45016830e-01,  1.07624734e+00,\n",
       "        1.10500739e+00,  3.71285287e-01,  8.83733194e-01,  4.54435831e-01,\n",
       "        1.08260068e-11,  2.30005763e+00,  3.73265786e-01,  1.51469948e-11])"
      ]
     },
     "metadata": {},
     "execution_count": 19
    }
   ],
   "metadata": {}
  },
  {
   "cell_type": "markdown",
   "source": [
    "# Ploat Graph"
   ],
   "metadata": {}
  },
  {
   "cell_type": "code",
   "execution_count": 20,
   "source": [
    "def NormalizeData(data):\n",
    "    norm = np.linalg.norm(data)\n",
    "    return data/norm"
   ],
   "outputs": [],
   "metadata": {}
  },
  {
   "cell_type": "code",
   "execution_count": 21,
   "source": [
    "x_l2 = NormalizeData(x)\n",
    "x_l1 = NormalizeData(res.x[:200])"
   ],
   "outputs": [],
   "metadata": {}
  },
  {
   "cell_type": "code",
   "execution_count": 22,
   "source": [
    "bins = 50\n",
    "plt.hist(x_l2, density=True, bins=bins, edgecolor=\"black\", label='L2-norm solution')\n",
    "plt.hist(x_l1, density=True, bins=bins, edgecolor=\"black\", label='L1-norm solution')\n",
    "\n",
    "plt.xlabel(\"x\")\n",
    "plt.ylabel(\"Normalized frequency\")\n",
    "plt.legend(loc='upper right')\n",
    "\n",
    "plt.show()"
   ],
   "outputs": [
    {
     "output_type": "display_data",
     "data": {
      "image/png": "[encoded data removed]",
      "text/plain": [
       "<Figure size 432x288 with 1 Axes>"
      ]
     },
     "metadata": {
      "needs_background": "light"
     }
    }
   ],
   "metadata": {}
  },
  {
   "cell_type": "markdown",
   "source": [
    "# Conclusion"
   ],
   "metadata": {}
  },
  {
   "cell_type": "markdown",
   "source": [
    "เวลา minimize ปัญหา l_1 norm ในกรณีแรกที่เป็นไปได้ จะมี optimum value ที่ค่า x บาง x บน hyperplane ไปชนที่ขอบของ l_1 norm ทำให้มีบาง entry ของ x จะได้ค่าเป็น 0 เราเรียกกรณีนี้ว่า sparse solution\n",
    "ในกรณีที่สองที่ hyperplane ไปแนบกับ surface ของ l_1 norm พอดีทำให้ทุกๆค่าของ x ไม่เป็น 0 เราเรียกกรณีนี้ว่า dense solution\n",
    "จากปัญหาที่เราทำ การที่เราใช้ l_1 norm ในการแก้ปัญหา solution ที่ได้ ค่า x บางตัวจะมีค่าเป็น 0 ประมาณ 50% ของทั้งหมด กรณีนี้เราเรียกว่าเป็น sparse solution\n",
    "กลับกันถ้าเราใช้ l_2 norm ในการแก้ปัญหา จะสังเกตได้ว่าค่า x จะมีการเฉลี่ยกันไป ส่วนมากจะไม่เป็น 0 กรณีนี้เป็น dense solution\n",
    "สุดท้ายเราสามารถสังเกตจากกราฟได้ว่า solution ของ l_2 norm ค่า x จะเป็นแบบกระจายตัว"
   ],
   "metadata": {}
  },
  {
   "cell_type": "markdown",
   "source": [],
   "metadata": {}
  },
  {
   "cell_type": "code",
   "execution_count": null,
   "source": [],
   "outputs": [],
   "metadata": {}
  }
 ],
 "metadata": {
  "orig_nbformat": 4,
  "language_info": {
   "name": "python",
   "version": "3.8.10",
   "mimetype": "text/x-python",
   "codemirror_mode": {
    "name": "ipython",
    "version": 3
   },
   "pygments_lexer": "ipython3",
   "nbconvert_exporter": "python",
   "file_extension": ".py"
  },
  "kernelspec": {
   "name": "python3",
   "display_name": "Python 3.8.10 64-bit ('mlp': conda)"
  },
  "interpreter": {
   "hash": "d5bf6591dea9055e566ac0067666b43f12209768e386ee97aa6dd19c01f71ee7"
  }
 },
 "nbformat": 4,
 "nbformat_minor": 2
}