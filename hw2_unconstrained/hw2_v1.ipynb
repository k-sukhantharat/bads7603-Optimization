{
 "cells": [
  {
   "cell_type": "code",
   "execution_count": 141,
   "source": [
    "import csv\r\n",
    "import numpy as np\r\n",
    "import math"
   ],
   "outputs": [],
   "metadata": {}
  },
  {
   "cell_type": "code",
   "execution_count": 142,
   "source": [
    "A = []\r\n",
    "with open('data_logsumexp_A.csv', newline='') as csvfile:\r\n",
    "    reader = csv.reader(csvfile)\r\n",
    "    for row in reader:\r\n",
    "        row = [float(x) for x in row]\r\n",
    "        # print(row)\r\n",
    "        A.append(row)\r\n",
    "A = np.array(A)\r\n",
    "A.shape\r\n"
   ],
   "outputs": [
    {
     "output_type": "execute_result",
     "data": {
      "text/plain": [
       "(300, 100)"
      ]
     },
     "metadata": {},
     "execution_count": 142
    }
   ],
   "metadata": {}
  },
  {
   "cell_type": "code",
   "execution_count": 143,
   "source": [
    "B = []\r\n",
    "with open('data_logsumexp_B.csv', newline='') as csvfile:\r\n",
    "    reader = csv.reader(csvfile)\r\n",
    "    for row in reader:\r\n",
    "        B.append([float(x) for x in row])\r\n",
    "B = np.array(B)\r\n",
    "B.shape"
   ],
   "outputs": [
    {
     "output_type": "execute_result",
     "data": {
      "text/plain": [
       "(300, 1)"
      ]
     },
     "metadata": {},
     "execution_count": 143
    }
   ],
   "metadata": {}
  },
  {
   "cell_type": "code",
   "execution_count": 144,
   "source": [
    "def f(x):\r\n",
    "    return math.log(np.sum(np.exp((A @ x) + B)))"
   ],
   "outputs": [],
   "metadata": {}
  },
  {
   "cell_type": "code",
   "execution_count": 145,
   "source": [
    "def f_diff1(x):\r\n",
    "    results = np.empty_like(x)\r\n",
    "    for i in range(A.shape[1]):\r\n",
    "        a = A[:,i]\r\n",
    "        # print('a:',a.shape)\r\n",
    "        result = np.exp((A @ x) + B).reshape(A.shape[0],)\r\n",
    "        result = (1/np.sum(np.exp((A @ x) + B))) * np.dot(result,a)\r\n",
    "        results[i] = [result]\r\n",
    "    return results\r\n",
    "    # return (1/np.sum(np.exp((A @ x) + B)))*"
   ],
   "outputs": [],
   "metadata": {}
  },
  {
   "cell_type": "code",
   "execution_count": 146,
   "source": [
    "def steepest_descent(x0,t=0.1,k=200):\r\n",
    "    x_hist = []\r\n",
    "    for i in range(k):\r\n",
    "        if i == 0:\r\n",
    "            x_pred = x0\r\n",
    "        else:\r\n",
    "            x_pred = x_hist[i-1]\r\n",
    "        x_pred_delta = -1 * f_diff1(x_pred)\r\n",
    "        x_hist.append(x_pred + (t * x_pred_delta))\r\n",
    "    return x_hist"
   ],
   "outputs": [],
   "metadata": {}
  },
  {
   "cell_type": "code",
   "execution_count": 147,
   "source": [
    "x = np.zeros((100,1))\r\n",
    "x_hist = steepest_descent(x)\r\n",
    "print(x_hist[0].shape)\r\n",
    "print(len(x_hist))"
   ],
   "outputs": [
    {
     "output_type": "stream",
     "name": "stdout",
     "text": [
      "(100, 1)\n",
      "200\n"
     ]
    }
   ],
   "metadata": {}
  }
 ],
 "metadata": {
  "orig_nbformat": 4,
  "language_info": {
   "name": "python",
   "version": "3.8.7",
   "mimetype": "text/x-python",
   "codemirror_mode": {
    "name": "ipython",
    "version": 3
   },
   "pygments_lexer": "ipython3",
   "nbconvert_exporter": "python",
   "file_extension": ".py"
  },
  "kernelspec": {
   "name": "python3",
   "display_name": "Python 3.8.7 64-bit"
  },
  "interpreter": {
   "hash": "dd091d4382ffad0277cc258a085ed55fef5fceaaca19105d8fd73ad6ac3d6972"
  }
 },
 "nbformat": 4,
 "nbformat_minor": 2
}