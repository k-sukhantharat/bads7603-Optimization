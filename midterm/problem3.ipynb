{
 "cells": [
  {
   "cell_type": "code",
   "execution_count": 1,
   "source": [
    "import numpy as np\n",
    "import matplotlib.pyplot as plt"
   ],
   "outputs": [],
   "metadata": {}
  },
  {
   "cell_type": "markdown",
   "source": [
    "# inital"
   ],
   "metadata": {}
  },
  {
   "cell_type": "code",
   "execution_count": 2,
   "source": [
    "a = 2\n",
    "b = 3\n",
    "x0 = (a, 1)\n",
    "epsilon = 1e-15"
   ],
   "outputs": [],
   "metadata": {}
  },
  {
   "cell_type": "code",
   "execution_count": 3,
   "source": [
    "def f(x):\n",
    "    x1 = x[0]\n",
    "    x2 = x[1]\n",
    "    return 0.5*(x1**2 + (a * x2**2)) - np.cos(b * (x1 + x2))"
   ],
   "outputs": [],
   "metadata": {}
  },
  {
   "cell_type": "code",
   "execution_count": 4,
   "source": [
    "def f_gradient(x):\n",
    "    x1 = x[0]\n",
    "    x2 = x[1]\n",
    "    return np.array([(x1 + np.sin(b)),\n",
    "                     (a*x2 + np.sinc(b))])"
   ],
   "outputs": [],
   "metadata": {}
  },
  {
   "cell_type": "markdown",
   "source": [
    "# steepest-descent method"
   ],
   "metadata": {}
  },
  {
   "cell_type": "code",
   "execution_count": 5,
   "source": [
    "def steepest_descent(x, max_iterations, t):\n",
    "    x_hist = []\n",
    "    x_hist.append(x)\n",
    "    results = []\n",
    "    results.append(f(x))\n",
    "    k = 1\n",
    "    while True:\n",
    "        x = x + (t * -f_gradient(x))\n",
    "        x_hist.append(x)\n",
    "        results.append(f(x))\n",
    "        if k == max_iterations or abs(results[-1] - results[-2]) <= epsilon:\n",
    "            break\n",
    "        else:\n",
    "            k += 1\n",
    "    return x_hist, results"
   ],
   "outputs": [],
   "metadata": {}
  },
  {
   "cell_type": "code",
   "execution_count": 6,
   "source": [
    "def plot_result(x):\n",
    "    x1_plot = [float(x[0]) for x in x]\n",
    "    x2_plot = [float(x[1]) for x in x]\n",
    "\n",
    "    xlist = np.linspace(-2.5, 10.0, 100)\n",
    "    ylist = np.linspace(-3.5, 3.5, 100)\n",
    "    X, Y = np.meshgrid(xlist, ylist)\n",
    "    Z = 1/2 * (X**2 + (a * Y**2))\n",
    "    fig, ax = plt.subplots(1,1)\n",
    "    cp = ax.contourf(X, Y, Z)\n",
    "    fig.colorbar(cp)\n",
    "    ax.set_xlabel('x1')\n",
    "    ax.set_ylabel('x2')\n",
    "    ax.set_xlim(-3,3)\n",
    "    ax.set_ylim(-3,3)\n",
    "    ax.plot(x1_plot, x2_plot)\n",
    "    plt.show()"
   ],
   "outputs": [],
   "metadata": {}
  },
  {
   "cell_type": "markdown",
   "source": [
    "# find x*, p* by steepest-descent method"
   ],
   "metadata": {}
  },
  {
   "cell_type": "code",
   "execution_count": 7,
   "source": [
    "t = 0.05\n",
    "max_iterations = -1\n",
    "x_hist,f_SD_t1 = steepest_descent(x0,max_iterations,t)\n",
    "p_opt = min(f_SD_t1)\n",
    "print('p* =',p_opt)\n",
    "print('x_k',x_hist[:5])\n",
    "print('k iterations:', len(x_hist))\n",
    "plot_result(x_hist)"
   ],
   "outputs": [
    {
     "output_type": "stream",
     "name": "stdout",
     "text": [
      "p* = -0.9999178422498171\n",
      "x_k [(2, 1), array([1.892944, 0.9     ]), array([1.7912408, 0.81     ]), array([1.69462276, 0.729     ]), array([1.60283562, 0.6561    ])]\n",
      "k iterations: 638\n"
     ]
    },
    {
     "output_type": "display_data",
     "data": {
      "image/png": "[encoded data removed]",
      "text/plain": [
       "<Figure size 432x288 with 2 Axes>"
      ]
     },
     "metadata": {
      "needs_background": "light"
     }
    }
   ],
   "metadata": {}
  },
  {
   "cell_type": "code",
   "execution_count": 8,
   "source": [
    "t = 0.15\n",
    "max_iterations = -1\n",
    "x_hist,f_SD_t1 = steepest_descent(x0,max_iterations,t)\n",
    "p_opt = min(f_SD_t1)\n",
    "print('p* =',p_opt)\n",
    "print('x_k',x_hist[:5])\n",
    "print('k iterations:', len(x_hist))\n",
    "plot_result(x_hist)"
   ],
   "outputs": [
    {
     "output_type": "stream",
     "name": "stdout",
     "text": [
      "p* = -0.9999163795154666\n",
      "x_k [(2, 1), array([1.678832, 0.7     ]), array([1.4058392, 0.49     ]), array([1.17379532, 0.343     ]), array([0.97655802, 0.2401    ])]\n",
      "k iterations: 210\n"
     ]
    },
    {
     "output_type": "display_data",
     "data": {
      "image/png": "[encoded data removed]",
      "text/plain": [
       "<Figure size 432x288 with 2 Axes>"
      ]
     },
     "metadata": {
      "needs_background": "light"
     }
    }
   ],
   "metadata": {}
  }
 ],
 "metadata": {
  "orig_nbformat": 4,
  "language_info": {
   "name": "python",
   "version": "3.8.10",
   "mimetype": "text/x-python",
   "codemirror_mode": {
    "name": "ipython",
    "version": 3
   },
   "pygments_lexer": "ipython3",
   "nbconvert_exporter": "python",
   "file_extension": ".py"
  },
  "kernelspec": {
   "name": "python3",
   "display_name": "Python 3.8.10 64-bit ('mlp': conda)"
  },
  "interpreter": {
   "hash": "d5bf6591dea9055e566ac0067666b43f12209768e386ee97aa6dd19c01f71ee7"
  }
 },
 "nbformat": 4,
 "nbformat_minor": 2
}