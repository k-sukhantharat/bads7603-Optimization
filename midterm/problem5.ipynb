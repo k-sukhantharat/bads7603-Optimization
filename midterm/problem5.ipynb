{
 "cells": [
  {
   "cell_type": "code",
   "execution_count": 1,
   "metadata": {},
   "outputs": [],
   "source": [
    "import scipy.io as sio\n",
    "import pandas as pd\n",
    "import numpy as np"
   ]
  },
  {
   "cell_type": "code",
   "execution_count": 2,
   "metadata": {},
   "outputs": [
    {
     "data": {
      "text/plain": [
       "dict_keys(['__header__', '__version__', '__globals__', 'A', 'C', 'b', 'd'])"
      ]
     },
     "execution_count": 2,
     "metadata": {},
     "output_type": "execute_result"
    }
   ],
   "source": [
    "data_mat = sio.loadmat('exam_data/data-qp.mat')\n",
    "# check keys\n",
    "data_mat.keys()"
   ]
  },
  {
   "cell_type": "code",
   "execution_count": 3,
   "metadata": {},
   "outputs": [],
   "source": [
    "A = data_mat['A']\n",
    "C = data_mat['C']\n",
    "b = data_mat['b']\n",
    "d = data_mat['d']"
   ]
  },
  {
   "cell_type": "code",
   "execution_count": 117,
   "metadata": {},
   "outputs": [],
   "source": [
    "def is_positive_semi_def(x):\n",
    "    if np.all(np.linalg.eigvals(x) > 0):\n",
    "        print('positive definite')\n",
    "    elif np.all(np.linalg.eigvals(x) >= 0):\n",
    "        print('positive semi definite')\n",
    "    else:\n",
    "        print('general matrix')\n",
    "    # print('eigen values:\\n',np.linalg.eigvals(x))"
   ]
  },
  {
   "cell_type": "code",
   "execution_count": 118,
   "metadata": {},
   "outputs": [],
   "source": [
    "alpha = 1/2\n",
    "m = A.shape[0]\n",
    "n = A.shape[1]"
   ]
  },
  {
   "cell_type": "code",
   "execution_count": 119,
   "metadata": {},
   "outputs": [
    {
     "data": {
      "text/plain": [
       "(31, 31)"
      ]
     },
     "execution_count": 119,
     "metadata": {},
     "output_type": "execute_result"
    }
   ],
   "source": [
    "# P\n",
    "P_A = 2*(A.T @ A)\n",
    "P_C = 2*(C.T @ C)\n",
    "P = np.concatenate(( np.concatenate((P_A, np.zeros_like(P_A)), axis=1),np.concatenate((np.zeros_like(P_C),P_C), axis=1) ), axis=0)\n",
    "P = np.concatenate((P, np.zeros((n+1,2*n))), axis=0)     \n",
    "P = np.concatenate((P, np.zeros((3*n+1,n+1))), axis=1)            \n",
    "P.shape"
   ]
  },
  {
   "cell_type": "code",
   "execution_count": 120,
   "metadata": {},
   "outputs": [
    {
     "name": "stdout",
     "output_type": "stream",
     "text": [
      "positive semi definite\n"
     ]
    }
   ],
   "source": [
    "is_positive_semi_def(P)"
   ]
  },
  {
   "cell_type": "code",
   "execution_count": 121,
   "metadata": {},
   "outputs": [
    {
     "data": {
      "text/plain": [
       "(31,)"
      ]
     },
     "execution_count": 121,
     "metadata": {},
     "output_type": "execute_result"
    }
   ],
   "source": [
    "# q\n",
    "q = np.concatenate(( -2*(A.T @ b) ,-2*(C.T @ d) ),axis=0)\n",
    "q = np.concatenate((q,np.zeros((n+1,1))), axis=0)\n",
    "q = q.reshape(q.shape[0],)\n",
    "q.shape"
   ]
  },
  {
   "cell_type": "code",
   "execution_count": 122,
   "metadata": {},
   "outputs": [
    {
     "data": {
      "text/plain": [
       "(41, 31)"
      ]
     },
     "execution_count": 122,
     "metadata": {},
     "output_type": "execute_result"
    }
   ],
   "source": [
    "# G\n",
    "G = np.concatenate((np.zeros((1,2*n)),np.ones((1,n+1))),axis=1)\n",
    "G = np.concatenate((G,\n",
    "        np.concatenate((np.zeros((n,n)), -1*np.identity(n),-1*np.identity(n), np.zeros((n,1))),axis=1)\n",
    "        ),axis=0)\n",
    "G = np.concatenate((G,\n",
    "        np.concatenate((np.zeros((n,n)),  1*np.identity(n),-1*np.identity(n), np.zeros((n,1))),axis=1)\n",
    "        ),axis=0)\n",
    "G = np.concatenate((G,\n",
    "        np.concatenate((-1*np.identity(n), np.zeros((n,n)), np.zeros((n,n)), -1*np.ones((n,1))),axis=1)\n",
    "        ),axis=0)\n",
    "G = np.concatenate((G,\n",
    "        np.concatenate((1*np.identity(n), np.zeros((n,n)), np.zeros((n,n)), -1*np.ones((n,1))),axis=1)\n",
    "        ),axis=0)\n",
    "G.shape"
   ]
  },
  {
   "cell_type": "code",
   "execution_count": 123,
   "metadata": {},
   "outputs": [
    {
     "data": {
      "text/plain": [
       "(41,)"
      ]
     },
     "execution_count": 123,
     "metadata": {},
     "output_type": "execute_result"
    }
   ],
   "source": [
    "# h\n",
    "h = np.concatenate((np.array([alpha]).reshape(1,1),np.zeros((4*n,1))), axis=0)\n",
    "h = h.reshape(h.shape[0],)\n",
    "h.shape"
   ]
  },
  {
   "cell_type": "code",
   "execution_count": 124,
   "metadata": {},
   "outputs": [
    {
     "data": {
      "text/plain": [
       "(31,)"
      ]
     },
     "execution_count": 124,
     "metadata": {},
     "output_type": "execute_result"
    }
   ],
   "source": [
    "# M\n",
    "M = np.zeros((3*n+1,))\n",
    "M.shape"
   ]
  },
  {
   "cell_type": "code",
   "execution_count": 125,
   "metadata": {},
   "outputs": [],
   "source": [
    "# g\n",
    "g = np.array([0])"
   ]
  },
  {
   "cell_type": "code",
   "execution_count": 127,
   "metadata": {},
   "outputs": [],
   "source": [
    "def f(x):\n",
    "    return (1/2 * x.T @ P @ x) + (q.T @ x)"
   ]
  },
  {
   "cell_type": "code",
   "execution_count": 147,
   "metadata": {},
   "outputs": [],
   "source": [
    "from cvxopt import matrix, solvers\n",
    "sol=solvers.qp(matrix(P), matrix(q), matrix(G), matrix(h))\n",
    "w = np.array(sol['x'])\n",
    "p_opt = float(f(w))"
   ]
  },
  {
   "cell_type": "code",
   "execution_count": 190,
   "metadata": {},
   "outputs": [
    {
     "name": "stdout",
     "output_type": "stream",
     "text": [
      "Optimal value: -8.500918794739846\n",
      "     x               z              \n",
      " 1.21633E-01    -2.59405E-09\n",
      " 9.14190E-02     1.60422E-10\n",
      " 2.23835E-01    -5.09069E-09\n",
      " 5.01055E-02     6.49523E-10\n",
      " 2.23835E-01    -5.26103E-02\n",
      "-2.23835E-01    -2.73284E-11\n",
      "-1.90577E-02    -3.18965E-10\n",
      " 1.55831E-01    -2.73922E-02\n",
      " 6.52569E-02     1.13630E-10\n",
      "-9.95057E-02    -1.96163E-01\n"
     ]
    }
   ],
   "source": [
    "# result\n",
    "x = w[0:n]\n",
    "z = w[n:2*n]\n",
    "print('Optimal value:', p_opt)\n",
    "print('{:5}{:15} {:15}'.format('','x', 'z'))\n",
    "for i in range(n):\n",
    "    print('{:>12.5E} {:15.5E}'.format(x[i][0], z[i][0]))\n"
   ]
  }
 ],
 "metadata": {
  "interpreter": {
   "hash": "660716d9b7be59279e9c31606fa26ee05860c60dfbb43431d45b2fc851060aa1"
  },
  "kernelspec": {
   "display_name": "Python 3.8.10 64-bit ('mlp': conda)",
   "name": "python3"
  },
  "language_info": {
   "codemirror_mode": {
    "name": "ipython",
    "version": 3
   },
   "file_extension": ".py",
   "mimetype": "text/x-python",
   "name": "python",
   "nbconvert_exporter": "python",
   "pygments_lexer": "ipython3",
   "version": "3.8.10"
  },
  "orig_nbformat": 4
 },
 "nbformat": 4,
 "nbformat_minor": 2
}
