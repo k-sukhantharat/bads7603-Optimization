{
 "cells": [
  {
   "cell_type": "code",
   "execution_count": 22,
   "metadata": {},
   "outputs": [],
   "source": [
    "import scipy.io as sio\n",
    "import pandas as pd\n",
    "import numpy as np"
   ]
  },
  {
   "cell_type": "code",
   "execution_count": 23,
   "metadata": {},
   "outputs": [
    {
     "data": {
      "text/plain": [
       "dict_keys(['__header__', '__version__', '__globals__', 'A', 'C', 'b', 'd'])"
      ]
     },
     "execution_count": 23,
     "metadata": {},
     "output_type": "execute_result"
    }
   ],
   "source": [
    "data_mat = sio.loadmat('exam_data/data-qp.mat')\n",
    "# check keys\n",
    "data_mat.keys()"
   ]
  },
  {
   "cell_type": "code",
   "execution_count": 24,
   "metadata": {},
   "outputs": [],
   "source": [
    "A = data_mat['A']\n",
    "C = data_mat['C']\n",
    "b = data_mat['b']\n",
    "d = data_mat['d']"
   ]
  },
  {
   "cell_type": "code",
   "execution_count": 25,
   "metadata": {},
   "outputs": [],
   "source": [
    "def is_positive_semi_def(x):\n",
    "    if np.all(np.linalg.eigvals(x) > 0):\n",
    "        print('positive definite')\n",
    "    elif np.all(np.linalg.eigvals(x) >= 0):\n",
    "        print('positive semi definite')\n",
    "    else:\n",
    "        print('general matrix')\n",
    "    # print('eigen values:\\n',np.linalg.eigvals(x))"
   ]
  },
  {
   "cell_type": "code",
   "execution_count": 26,
   "metadata": {},
   "outputs": [],
   "source": [
    "alpha = 1/2\n",
    "m = A.shape[0]\n",
    "n = A.shape[1]"
   ]
  },
  {
   "cell_type": "code",
   "execution_count": 27,
   "metadata": {},
   "outputs": [
    {
     "data": {
      "text/plain": [
       "(31, 31)"
      ]
     },
     "execution_count": 27,
     "metadata": {},
     "output_type": "execute_result"
    }
   ],
   "source": [
    "# P\n",
    "P_A = 2*(A.T @ A)\n",
    "P_C = 2*(C.T @ C)\n",
    "P = np.concatenate(( np.concatenate((P_A, np.zeros_like(P_A)), axis=1),np.concatenate((np.zeros_like(P_C),P_C), axis=1) ), axis=0)\n",
    "P = np.concatenate((P, np.zeros((n+1,2*n))), axis=0)     \n",
    "P = np.concatenate((P, np.zeros((3*n+1,n+1))), axis=1)            \n",
    "P.shape"
   ]
  },
  {
   "cell_type": "code",
   "execution_count": 28,
   "metadata": {},
   "outputs": [
    {
     "name": "stdout",
     "output_type": "stream",
     "text": [
      "positive semi definite\n"
     ]
    }
   ],
   "source": [
    "is_positive_semi_def(P)"
   ]
  },
  {
   "cell_type": "code",
   "execution_count": 68,
   "metadata": {},
   "outputs": [
    {
     "data": {
      "text/plain": [
       "(31,)"
      ]
     },
     "execution_count": 68,
     "metadata": {},
     "output_type": "execute_result"
    }
   ],
   "source": [
    "# q\n",
    "q = np.concatenate(( -2*(A.T @ b) ,-2*(C.T @ d) ),axis=0)\n",
    "q = np.concatenate((q,np.zeros((n+1,1))), axis=0)\n",
    "q = q.reshape(q.shape[0],)\n",
    "q.shape"
   ]
  },
  {
   "cell_type": "code",
   "execution_count": 30,
   "metadata": {},
   "outputs": [
    {
     "data": {
      "text/plain": [
       "(41, 31)"
      ]
     },
     "execution_count": 30,
     "metadata": {},
     "output_type": "execute_result"
    }
   ],
   "source": [
    "# G\n",
    "G = np.concatenate((np.zeros((1,2*n)),np.ones((1,n+1))),axis=1)\n",
    "G = np.concatenate((G,\n",
    "        np.concatenate((np.zeros((n,n)), -1*np.identity(n),-1*np.identity(n), np.zeros((n,1))),axis=1)\n",
    "        ),axis=0)\n",
    "G = np.concatenate((G,\n",
    "        np.concatenate((np.zeros((n,n)),  1*np.identity(n),-1*np.identity(n), np.zeros((n,1))),axis=1)\n",
    "        ),axis=0)\n",
    "G = np.concatenate((G,\n",
    "        np.concatenate((-1*np.identity(n), np.zeros((n,n)), np.zeros((n,n)), -1*np.ones((n,1))),axis=1)\n",
    "        ),axis=0)\n",
    "G = np.concatenate((G,\n",
    "        np.concatenate((1*np.identity(n), np.zeros((n,n)), np.zeros((n,n)), -1*np.ones((n,1))),axis=1)\n",
    "        ),axis=0)\n",
    "G.shape"
   ]
  },
  {
   "cell_type": "code",
   "execution_count": 58,
   "metadata": {},
   "outputs": [
    {
     "data": {
      "text/plain": [
       "(41,)"
      ]
     },
     "execution_count": 58,
     "metadata": {},
     "output_type": "execute_result"
    }
   ],
   "source": [
    "# h\n",
    "h = np.concatenate((np.array([alpha]).reshape(1,1),np.zeros((4*n,1))), axis=0)\n",
    "h = h.reshape(h.shape[0],)\n",
    "h.shape"
   ]
  },
  {
   "cell_type": "code",
   "execution_count": 32,
   "metadata": {},
   "outputs": [
    {
     "data": {
      "text/plain": [
       "(31,)"
      ]
     },
     "execution_count": 32,
     "metadata": {},
     "output_type": "execute_result"
    }
   ],
   "source": [
    "# M\n",
    "M = np.zeros((3*n+1,))\n",
    "M.shape"
   ]
  },
  {
   "cell_type": "code",
   "execution_count": 33,
   "metadata": {},
   "outputs": [],
   "source": [
    "# g\n",
    "g = np.array([0])"
   ]
  },
  {
   "cell_type": "code",
   "execution_count": 34,
   "metadata": {},
   "outputs": [],
   "source": [
    "def f(x):\n",
    "    return (1/2 * x.T @ P @ x) + (q.T @ x)"
   ]
  },
  {
   "cell_type": "code",
   "execution_count": 35,
   "metadata": {},
   "outputs": [
    {
     "name": "stdout",
     "output_type": "stream",
     "text": [
      "     pcost       dcost       gap    pres   dres\n",
      " 0: -1.6927e+01 -1.5782e+01  9e+01  9e+00  9e-01\n",
      " 1: -1.6462e+01 -2.1618e+01  2e+01  2e+00  2e-01\n",
      " 2: -1.2536e+01 -1.2448e+01  9e+00  7e-01  6e-02\n",
      " 3: -1.0023e+01 -1.0146e+01  5e+00  3e-01  2e-02\n",
      " 4: -8.6119e+00 -8.8874e+00  7e-01  3e-02  2e-03\n",
      " 5: -8.5048e+00 -8.5419e+00  7e-02  2e-03  2e-04\n",
      " 6: -8.5008e+00 -8.5015e+00  1e-03  2e-05  2e-06\n",
      " 7: -8.5009e+00 -8.5009e+00  1e-05  2e-07  2e-08\n",
      " 8: -8.5009e+00 -8.5009e+00  1e-07  2e-09  2e-10\n",
      "Optimal solution found.\n"
     ]
    }
   ],
   "source": [
    "from cvxopt import matrix, solvers\n",
    "sol=solvers.qp(matrix(P), matrix(q), matrix(G), matrix(h))\n",
    "w = np.array(sol['x'])\n",
    "p_opt = float(f(w))"
   ]
  },
  {
   "cell_type": "code",
   "execution_count": 36,
   "metadata": {},
   "outputs": [
    {
     "name": "stdout",
     "output_type": "stream",
     "text": [
      "Optimal value: -8.500918794739846\n",
      "     x               z              \n",
      " 1.21633E-01    -2.59405E-09\n",
      " 9.14190E-02     1.60422E-10\n",
      " 2.23835E-01    -5.09069E-09\n",
      " 5.01055E-02     6.49523E-10\n",
      " 2.23835E-01    -5.26103E-02\n",
      "-2.23835E-01    -2.73284E-11\n",
      "-1.90577E-02    -3.18965E-10\n",
      " 1.55831E-01    -2.73922E-02\n",
      " 6.52569E-02     1.13630E-10\n",
      "-9.95057E-02    -1.96163E-01\n"
     ]
    }
   ],
   "source": [
    "# result\n",
    "x = w[0:n]\n",
    "z = w[n:2*n]\n",
    "print('Optimal value:', p_opt)\n",
    "print('{:5}{:15} {:15}'.format('','x', 'z'))\n",
    "for i in range(n):\n",
    "    print('{:>12.5E} {:15.5E}'.format(x[i][0], z[i][0]))\n"
   ]
  },
  {
   "cell_type": "code",
   "execution_count": 70,
   "metadata": {},
   "outputs": [
    {
     "name": "stdout",
     "output_type": "stream",
     "text": [
      "sum square value of residual_1 : 8.33124078485881\n",
      "sum square value of residual_2 : 16.582431795491175\n",
      "minimum function value: 24.91367258034998\n"
     ]
    }
   ],
   "source": [
    "eq_1 = ((A @ x) - b)**2\n",
    "eq_2 = ((C @ z) - d)**2\n",
    "\n",
    "sumeq_1 = np.sum(eq_1)\n",
    "sumeq_2 = np.sum(eq_2)\n",
    "\n",
    "eq_min = eq_1 + eq_2\n",
    "sumeq_min = np.sum(eq_min)\n",
    "square_result = np.sqrt(sumeq_min)\n",
    "# print(eq_1)\n",
    "# print(eq_2)\n",
    "print('sum square value of residual_1 :', sumeq_1)\n",
    "print('sum square value of residual_2 :', sumeq_2)\n",
    "print('minimum function value:', sumeq_min)"
   ]
  },
  {
   "cell_type": "code",
   "execution_count": 71,
   "metadata": {},
   "outputs": [
    {
     "data": {
      "text/plain": [
       "<AxesSubplot:>"
      ]
     },
     "execution_count": 71,
     "metadata": {},
     "output_type": "execute_result"
    },
    {
     "data": {
      "image/png": "[encoded data removed]",
      "text/plain": [
       "<Figure size 432x288 with 1 Axes>"
      ]
     },
     "metadata": {},
     "output_type": "display_data"
    }
   ],
   "source": [
    "import numpy as np\n",
    "import seaborn as sns\n",
    "sns.set_theme(style=\"whitegrid\")\n",
    "\n",
    "x_plot= A @ x\n",
    "y_plot = b\n",
    "\n",
    "sns.regplot(x=x_plot, y=y_plot, marker=\"+\")"
   ]
  },
  {
   "cell_type": "code",
   "execution_count": 72,
   "metadata": {},
   "outputs": [
    {
     "data": {
      "text/plain": [
       "<AxesSubplot:>"
      ]
     },
     "execution_count": 72,
     "metadata": {},
     "output_type": "execute_result"
    },
    {
     "data": {
      "image/png": "[encoded data removed]",
      "text/plain": [
       "<Figure size 432x288 with 1 Axes>"
      ]
     },
     "metadata": {},
     "output_type": "display_data"
    }
   ],
   "source": [
    "v_plot= C @ z\n",
    "w_plot = d\n",
    "\n",
    "sns.regplot(x=v_plot, y=w_plot, marker=\"+\")"
   ]
  },
  {
   "cell_type": "code",
   "execution_count": 75,
   "metadata": {},
   "outputs": [
    {
     "name": "stdout",
     "output_type": "stream",
     "text": [
      "norm infinity value of x : 0.22383461824833273\n",
      "norm 1 value of z : 0.27616538282951053\n",
      "constraint value : 0.5000000010778433\n"
     ]
    }
   ],
   "source": [
    "from numpy import linalg as LA\n",
    "\n",
    "print('norm infinity value of x :', LA.norm(x, np.inf))\n",
    "print('norm 1 value of z :', LA.norm(z, 1))\n",
    "constraint_result = LA.norm(x, np.inf) + LA.norm(z, 1) \n",
    "print('constraint value :', constraint_result)"
   ]
  }
 ],
 "metadata": {
  "interpreter": {
   "hash": "92e63f27f41c181b5d041031276e10f0586a1ef7c7fc78b26f0bcd7c98e921ef"
  },
  "kernelspec": {
   "display_name": "Python 3.8.11 64-bit ('BADS7603': conda)",
   "name": "python3"
  },
  "language_info": {
   "codemirror_mode": {
    "name": "ipython",
    "version": 3
   },
   "file_extension": ".py",
   "mimetype": "text/x-python",
   "name": "python",
   "nbconvert_exporter": "python",
   "pygments_lexer": "ipython3",
   "version": "3.8.11"
  },
  "orig_nbformat": 4
 },
 "nbformat": 4,
 "nbformat_minor": 2
}
