{
 "cells": [
  {
   "cell_type": "code",
   "execution_count": 13,
   "source": [
    "import numpy as np\n",
    "from numpy.linalg import inv"
   ],
   "outputs": [],
   "metadata": {}
  },
  {
   "cell_type": "code",
   "execution_count": 14,
   "source": [
    "F = np.array([  [1/2.,-1/2.],\n",
    "                [1  ,0],\n",
    "                [0  ,1]])\n",
    "P = np.array([  [3  ,2  ,-1],\n",
    "                [2  ,4  ,-1],\n",
    "                [-1 ,-1 ,4]])\n",
    "x_ = np.array([ 0,\n",
    "                0,\n",
    "                1])\n",
    "q = np.array([  -1,\n",
    "                5,\n",
    "                8])"
   ],
   "outputs": [],
   "metadata": {}
  },
  {
   "cell_type": "code",
   "execution_count": 15,
   "source": [
    "print(x_)"
   ],
   "outputs": [
    {
     "output_type": "stream",
     "name": "stdout",
     "text": [
      "[0 0 1]\n"
     ]
    }
   ],
   "metadata": {}
  },
  {
   "cell_type": "code",
   "execution_count": 16,
   "source": [
    "z = inv(F.T @ P @ F) \\\n",
    "    @ ((F.T @ q) - (1/2.*(x_.T @ P @ F)).T)\n",
    "print('z:',z)"
   ],
   "outputs": [
    {
     "output_type": "stream",
     "name": "stdout",
     "text": [
      "z: [1.78761062 2.09734513]\n"
     ]
    }
   ],
   "metadata": {}
  },
  {
   "cell_type": "code",
   "execution_count": 17,
   "source": [
    "def f(x):\n",
    "    return (1/2.*(x.T @ P @ x)) - (q.T @ x)"
   ],
   "outputs": [],
   "metadata": {}
  },
  {
   "cell_type": "code",
   "execution_count": 18,
   "source": [
    "x_opt = np.array([ 0.018, 1.681, 2.646])\n",
    "print(x_opt.shape)\n",
    "print('minimize f(x):', f(x_opt))"
   ],
   "outputs": [
    {
     "output_type": "stream",
     "name": "stdout",
     "text": [
      "(3,)\n",
      "minimize f(x): -14.335398\n"
     ]
    }
   ],
   "metadata": {}
  },
  {
   "cell_type": "code",
   "execution_count": 19,
   "source": [
    "def f_(z):\n",
    "    return (1/2. * ((z.T @ F.T @ P @ F @ z)+(x_.T @ P @ F @ z))) - (q.T @ F @ z)\n",
    "\n",
    "print('minimize f(z):', f_(z))"
   ],
   "outputs": [
    {
     "output_type": "stream",
     "name": "stdout",
     "text": [
      "minimize f(z): -11.246681415929203\n"
     ]
    }
   ],
   "metadata": {}
  },
  {
   "cell_type": "code",
   "execution_count": 20,
   "source": [
    "x = (F @ z) + x_\n",
    "print(x)"
   ],
   "outputs": [
    {
     "output_type": "stream",
     "name": "stdout",
     "text": [
      "[-0.15486726  1.78761062  3.09734513]\n"
     ]
    }
   ],
   "metadata": {}
  },
  {
   "cell_type": "code",
   "execution_count": null,
   "source": [],
   "outputs": [],
   "metadata": {}
  }
 ],
 "metadata": {
  "orig_nbformat": 4,
  "language_info": {
   "name": "python",
   "version": "3.8.10",
   "mimetype": "text/x-python",
   "codemirror_mode": {
    "name": "ipython",
    "version": 3
   },
   "pygments_lexer": "ipython3",
   "nbconvert_exporter": "python",
   "file_extension": ".py"
  },
  "kernelspec": {
   "name": "python3",
   "display_name": "Python 3.8.10 64-bit ('mlp': conda)"
  },
  "interpreter": {
   "hash": "d5bf6591dea9055e566ac0067666b43f12209768e386ee97aa6dd19c01f71ee7"
  }
 },
 "nbformat": 4,
 "nbformat_minor": 2
}