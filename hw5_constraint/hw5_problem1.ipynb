{
 "cells": [
  {
   "cell_type": "code",
   "execution_count": 1,
   "source": [
    "import numpy as np\n",
    "from numpy.linalg import inv, solve"
   ],
   "outputs": [],
   "metadata": {}
  },
  {
   "cell_type": "code",
   "execution_count": 3,
   "source": [
    "F = np.array([  [1/2.,-1/2.],\n",
    "                [1  ,0],\n",
    "                [0  ,1]])\n",
    "P = np.array([  [3  ,2  ,-1],\n",
    "                [2  ,4  ,-1],\n",
    "                [-1 ,-1 ,4]])\n",
    "x_ = np.array([ 1,\n",
    "                1,\n",
    "                0])\n",
    "q = np.array([  -1,\n",
    "                5,\n",
    "                8])"
   ],
   "outputs": [],
   "metadata": {}
  },
  {
   "cell_type": "code",
   "execution_count": 4,
   "source": [
    "print(x_)"
   ],
   "outputs": [
    {
     "output_type": "stream",
     "name": "stdout",
     "text": [
      "[1 1 0]\n"
     ]
    }
   ],
   "metadata": {}
  },
  {
   "cell_type": "code",
   "execution_count": 5,
   "source": [
    "z = inv(F.T @ P @ F) \\\n",
    "    @ ((F.T @ q) - (F.T @ P @ x_))\n",
    "print('z:',z)"
   ],
   "outputs": [
    {
     "output_type": "stream",
     "name": "stdout",
     "text": [
      "z: [0.68141593 2.6460177 ]\n"
     ]
    }
   ],
   "metadata": {}
  },
  {
   "cell_type": "markdown",
   "source": [
    "## numpy.linalg.solve\n",
    "x = np.linalg.solve(a, b) \n",
    "\n",
    "x = a^-1 @ b"
   ],
   "metadata": {}
  },
  {
   "cell_type": "code",
   "execution_count": 12,
   "source": [
    "z = solve(F.T @ P @ F,((F.T @ q) - (F.T @ P @ x_)))\n",
    "print('z:',z)"
   ],
   "outputs": [
    {
     "output_type": "stream",
     "name": "stdout",
     "text": [
      "z: [0.68141593 2.6460177 ]\n"
     ]
    }
   ],
   "metadata": {}
  },
  {
   "cell_type": "code",
   "execution_count": 7,
   "source": [
    "def f(x):\n",
    "    return (1/2.*(x.T @ P @ x)) - (q.T @ x)"
   ],
   "outputs": [],
   "metadata": {}
  },
  {
   "cell_type": "code",
   "execution_count": 8,
   "source": [
    "x_opt = np.array([ 0.018, 1.681, 2.646])\n",
    "print('minimize f(x):', f(x_opt))"
   ],
   "outputs": [
    {
     "output_type": "stream",
     "name": "stdout",
     "text": [
      "minimize f(x): -14.335398\n"
     ]
    }
   ],
   "metadata": {}
  },
  {
   "cell_type": "code",
   "execution_count": 9,
   "source": [
    "def f_(z):\n",
    "    x = (F @ z) + x_\n",
    "    return f(x)\n",
    "\n",
    "print('minimize f(z):', f_(z))"
   ],
   "outputs": [
    {
     "output_type": "stream",
     "name": "stdout",
     "text": [
      "minimize f(z): -14.336283185840708\n"
     ]
    }
   ],
   "metadata": {}
  },
  {
   "cell_type": "code",
   "execution_count": 10,
   "source": [
    "x = (F @ z) + x_\n",
    "print(x)"
   ],
   "outputs": [
    {
     "output_type": "stream",
     "name": "stdout",
     "text": [
      "[0.01769912 1.68141593 2.6460177 ]\n"
     ]
    }
   ],
   "metadata": {}
  },
  {
   "cell_type": "code",
   "execution_count": null,
   "source": [],
   "outputs": [],
   "metadata": {}
  }
 ],
 "metadata": {
  "orig_nbformat": 4,
  "language_info": {
   "name": "python",
   "version": "3.8.10",
   "mimetype": "text/x-python",
   "codemirror_mode": {
    "name": "ipython",
    "version": 3
   },
   "pygments_lexer": "ipython3",
   "nbconvert_exporter": "python",
   "file_extension": ".py"
  },
  "kernelspec": {
   "name": "python3",
   "display_name": "Python 3.8.10 64-bit ('mlp': conda)"
  },
  "interpreter": {
   "hash": "d5bf6591dea9055e566ac0067666b43f12209768e386ee97aa6dd19c01f71ee7"
  }
 },
 "nbformat": 4,
 "nbformat_minor": 2
}