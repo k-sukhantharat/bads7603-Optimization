{
 "cells": [
  {
   "cell_type": "code",
   "execution_count": 8,
   "metadata": {},
   "outputs": [],
   "source": [
    "import scipy.io as sio\n",
    "import pandas as pd\n",
    "import numpy as np\n",
    "from sklearn import linear_model"
   ]
  },
  {
   "cell_type": "markdown",
   "metadata": {},
   "source": [
    "# load data"
   ]
  },
  {
   "cell_type": "code",
   "execution_count": 2,
   "metadata": {},
   "outputs": [],
   "source": [
    "data_mat = sio.loadmat('data-lasso.mat')"
   ]
  },
  {
   "cell_type": "code",
   "execution_count": 3,
   "metadata": {},
   "outputs": [
    {
     "data": {
      "text/plain": [
       "dict_keys(['__header__', '__version__', '__globals__', 'X', 'b0', 'y'])"
      ]
     },
     "execution_count": 3,
     "metadata": {},
     "output_type": "execute_result"
    }
   ],
   "source": [
    "# check keys\n",
    "data_mat.keys()"
   ]
  },
  {
   "cell_type": "code",
   "execution_count": 5,
   "metadata": {},
   "outputs": [
    {
     "name": "stdout",
     "output_type": "stream",
     "text": [
      "X: (200, 100)\n",
      "b0: (100, 1)\n",
      "y: (200, 1)\n"
     ]
    }
   ],
   "source": [
    "X = data_mat['X']\n",
    "b0 = data_mat['b0']\n",
    "y = data_mat['y']\n",
    "print('X:',X.shape)\n",
    "print('b0:',b0.shape)\n",
    "print('y:',y.shape)"
   ]
  },
  {
   "cell_type": "code",
   "execution_count": 19,
   "metadata": {},
   "outputs": [
    {
     "data": {
      "text/plain": [
       "0.989392434768459"
      ]
     },
     "execution_count": 19,
     "metadata": {},
     "output_type": "execute_result"
    }
   ],
   "source": [
    "reg = linear_model.Lasso(alpha=0.1, fit_intercept=False)\n",
    "reg.fit(X, y)\n",
    "reg.score(X,y)\n"
   ]
  },
  {
   "cell_type": "code",
   "execution_count": 20,
   "metadata": {},
   "outputs": [
    {
     "data": {
      "text/plain": [
       "array([-0.18847661,  0.30146775, -0.66382898, -0.        , -0.        ,\n",
       "        0.        ,  0.        , -0.        , -0.        , -0.37521945,\n",
       "        0.        ,  0.43184386,  0.00571737, -0.07660379,  1.23863804,\n",
       "       -0.        ,  0.66890123, -1.26208317, -0.42613617, -0.        ,\n",
       "        0.        , -0.59504117, -0.35655328, -0.        ,  2.41886903,\n",
       "       -0.56608776, -0.        , -0.        , -0.88048368,  0.        ,\n",
       "        0.        ,  0.2294627 , -0.        , -0.        ,  0.98557884,\n",
       "        0.        ,  1.58837036,  0.        ,  0.        ,  1.96357088,\n",
       "        0.        ,  0.        , -0.34740308, -0.        , -0.15952687,\n",
       "       -0.58899181,  0.        , -0.        , -0.        ,  0.        ,\n",
       "       -0.38076979,  0.        , -0.        ,  0.56451558,  0.        ,\n",
       "       -0.        ,  0.        , -0.31739388,  0.        ,  0.        ,\n",
       "        0.        , -1.87543945, -0.27417215,  0.45743458,  0.        ,\n",
       "        0.01096491, -0.        ,  2.94445719, -0.        , -0.        ,\n",
       "       -0.05466661,  0.67341431, -0.        ,  0.        , -0.16656571,\n",
       "        0.        ,  0.74517222,  0.        ,  1.5753681 ,  0.70847319,\n",
       "        2.41664065,  0.        , -0.        ,  0.        , -0.49254181,\n",
       "       -1.13749239, -0.18297108,  0.96496559,  0.        , -0.62627335,\n",
       "        1.23442786,  0.54986451,  0.        , -0.        ,  1.29050894,\n",
       "       -0.21674803, -0.        ,  0.        , -0.        ,  0.        ])"
      ]
     },
     "execution_count": 20,
     "metadata": {},
     "output_type": "execute_result"
    }
   ],
   "source": [
    "reg.coef_\n"
   ]
  },
  {
   "cell_type": "code",
   "execution_count": null,
   "metadata": {},
   "outputs": [],
   "source": []
  }
 ],
 "metadata": {
  "interpreter": {
   "hash": "660716d9b7be59279e9c31606fa26ee05860c60dfbb43431d45b2fc851060aa1"
  },
  "kernelspec": {
   "display_name": "Python 3.8.10 64-bit ('mlp': conda)",
   "name": "python3"
  },
  "language_info": {
   "codemirror_mode": {
    "name": "ipython",
    "version": 3
   },
   "file_extension": ".py",
   "mimetype": "text/x-python",
   "name": "python",
   "nbconvert_exporter": "python",
   "pygments_lexer": "ipython3",
   "version": "3.8.10"
  },
  "orig_nbformat": 4
 },
 "nbformat": 4,
 "nbformat_minor": 2
}
